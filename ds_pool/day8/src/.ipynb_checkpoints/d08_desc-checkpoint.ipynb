{
 "cells": [
  {
   "cell_type": "code",
   "execution_count": 1,
   "id": "16f6a34f",
   "metadata": {},
   "outputs": [
    {
     "ename": "ModuleNotFoundError",
     "evalue": "No module named 'tensorflow'",
     "output_type": "error",
     "traceback": [
      "\u001b[0;31m---------------------------------------------------------------------------\u001b[0m",
      "\u001b[0;31mModuleNotFoundError\u001b[0m                       Traceback (most recent call last)",
      "Input \u001b[0;32mIn [1]\u001b[0m, in \u001b[0;36m<cell line: 3>\u001b[0;34m()\u001b[0m\n\u001b[1;32m      1\u001b[0m \u001b[38;5;28;01mimport\u001b[39;00m \u001b[38;5;21;01mnumpy\u001b[39;00m \u001b[38;5;28;01mas\u001b[39;00m \u001b[38;5;21;01mnp\u001b[39;00m\n\u001b[1;32m      2\u001b[0m np\u001b[38;5;241m.\u001b[39mrandom\u001b[38;5;241m.\u001b[39mseed(\u001b[38;5;241m123\u001b[39m)  \u001b[38;5;66;03m# для воспроизводимости\u001b[39;00m\n\u001b[0;32m----> 3\u001b[0m \u001b[38;5;28;01mfrom\u001b[39;00m \u001b[38;5;21;01mkeras\u001b[39;00m\u001b[38;5;21;01m.\u001b[39;00m\u001b[38;5;21;01mmodels\u001b[39;00m \u001b[38;5;28;01mimport\u001b[39;00m Sequential                           \u001b[38;5;66;03m# Sequential - это базовый класс нейронки в керасе\u001b[39;00m\n\u001b[1;32m      4\u001b[0m \u001b[38;5;28;01mfrom\u001b[39;00m \u001b[38;5;21;01mkeras\u001b[39;00m\u001b[38;5;21;01m.\u001b[39;00m\u001b[38;5;21;01mlayers\u001b[39;00m \u001b[38;5;28;01mimport\u001b[39;00m Dense, Dropout, Activation, Flatten  \u001b[38;5;66;03m# дальше импортируем классы слоев\u001b[39;00m\n\u001b[1;32m      5\u001b[0m \u001b[38;5;28;01mfrom\u001b[39;00m \u001b[38;5;21;01mkeras\u001b[39;00m\u001b[38;5;21;01m.\u001b[39;00m\u001b[38;5;21;01mlayers\u001b[39;00m \u001b[38;5;28;01mimport\u001b[39;00m Convolution2D, MaxPooling2D          \u001b[38;5;66;03m# еще немного слоев, которые предназначены именно для работы с картинками\u001b[39;00m\n",
      "File \u001b[0;32m~/.brew/lib/python3.9/site-packages/keras/__init__.py:21\u001b[0m, in \u001b[0;36m<module>\u001b[0;34m\u001b[0m\n\u001b[1;32m     15\u001b[0m \u001b[38;5;124;03m\"\"\"Implementation of the Keras API, the high-level API of TensorFlow.\u001b[39;00m\n\u001b[1;32m     16\u001b[0m \n\u001b[1;32m     17\u001b[0m \u001b[38;5;124;03mDetailed documentation and user guides are available at\u001b[39;00m\n\u001b[1;32m     18\u001b[0m \u001b[38;5;124;03m[keras.io](https://keras.io).\u001b[39;00m\n\u001b[1;32m     19\u001b[0m \u001b[38;5;124;03m\"\"\"\u001b[39;00m\n\u001b[1;32m     20\u001b[0m \u001b[38;5;66;03m# pylint: disable=unused-import\u001b[39;00m\n\u001b[0;32m---> 21\u001b[0m \u001b[38;5;28;01mfrom\u001b[39;00m \u001b[38;5;21;01mtensorflow\u001b[39;00m\u001b[38;5;21;01m.\u001b[39;00m\u001b[38;5;21;01mpython\u001b[39;00m \u001b[38;5;28;01mimport\u001b[39;00m tf2\n\u001b[1;32m     22\u001b[0m \u001b[38;5;28;01mfrom\u001b[39;00m \u001b[38;5;21;01mkeras\u001b[39;00m \u001b[38;5;28;01mimport\u001b[39;00m distribute\n\u001b[1;32m     24\u001b[0m \u001b[38;5;66;03m# See b/110718070#comment18 for more details about this import.\u001b[39;00m\n",
      "\u001b[0;31mModuleNotFoundError\u001b[0m: No module named 'tensorflow'"
     ]
    }
   ],
   "source": [
    "import numpy as np\n",
    "np.random.seed(123)  # для воспроизводимости\n",
    "from keras.models import Sequential                           # Sequential - это базовый класс нейронки в керасе\n",
    "from keras.layers import Dense, Dropout, Activation, Flatten  # дальше импортируем классы слоев\n",
    "from keras.layers import Convolution2D, MaxPooling2D          # еще немного слоев, которые предназначены именно для работы с картинками\n",
    "from keras.utils import np_utils\n",
    "from keras.datasets import mnist  \n",
    "import os\n",
    "import shutil\n"
   ]
  },
  {
   "cell_type": "code",
   "execution_count": 2,
   "id": "316dbf07",
   "metadata": {},
   "outputs": [],
   "source": [
    "import os\n",
    "import shutil"
   ]
  },
  {
   "cell_type": "code",
   "execution_count": 2,
   "id": "3bcdee48",
   "metadata": {},
   "outputs": [],
   "source": [
    "os.chdir('/Users/pskip/goinfre/tmp/cats_and_dogs_filtered/')\n",
    "\n"
   ]
  },
  {
   "cell_type": "code",
   "execution_count": 3,
   "id": "3f54ee8b",
   "metadata": {},
   "outputs": [
    {
     "name": "stdout",
     "output_type": "stream",
     "text": [
      "\u001b[34mdataset\u001b[m\u001b[m/\r\n",
      "\u001b[30m\u001b[43mtest\u001b[m\u001b[m/\r\n",
      "\u001b[30m\u001b[43mtrain\u001b[m\u001b[m/\r\n",
      "\u001b[30m\u001b[43mvalidation\u001b[m\u001b[m/\r\n",
      "vectorize.py\r\n",
      "vgg19_weights_tf_dim_ordering_tf_kernels.h5\r\n"
     ]
    }
   ],
   "source": [
    "ls\n"
   ]
  },
  {
   "cell_type": "code",
   "execution_count": 3,
   "id": "7e7c34ef",
   "metadata": {},
   "outputs": [],
   "source": [
    "\n",
    "project_dir = '/Users/pskip/goinfre/tmp/cats_and_dogs_filtered'\n",
    "# Каталог с набором данных\n",
    "data_dir_cat = './dataset/cats'\n",
    "data_dir_dog = './dataset/dogs'\n",
    "# Каталог с данными для обучения\n",
    "train_dir = './train'\n",
    "# Каталог с данными для проверки\n",
    "val_dir = './validation'\n",
    "# Каталог с данными для тестирования\n",
    "test_dir = './test'\n",
    "\n",
    "\n",
    "\n",
    "# Часть набора данных для тестирования\n",
    "test_data_portion = 0.2\n",
    "nbr_img = 1000"
   ]
  },
  {
   "cell_type": "code",
   "execution_count": 59,
   "id": "35923ee3",
   "metadata": {
    "scrolled": true
   },
   "outputs": [
    {
     "data": {
      "text/plain": [
       "'/goinfre/pskip/tmp/cats_and_dogs_filtered'"
      ]
     },
     "execution_count": 59,
     "metadata": {},
     "output_type": "execute_result"
    }
   ],
   "source": [
    "pwd"
   ]
  },
  {
   "cell_type": "code",
   "execution_count": 47,
   "id": "c59750a4",
   "metadata": {},
   "outputs": [],
   "source": [
    "all_img_cats = os.listdir('./dataset/cats/')\n",
    "all_img_dogs = os.listdir('./dataset/dogs/')"
   ]
  },
  {
   "cell_type": "code",
   "execution_count": 56,
   "id": "8d366947",
   "metadata": {},
   "outputs": [
    {
     "name": "stdout",
     "output_type": "stream",
     "text": [
      "1000 1000\n",
      "800 800\n"
     ]
    }
   ],
   "source": [
    "cats_len = len(all_img_cats)\n",
    "dogs_len = len(all_img_dogs)\n",
    "print(cats_len, dogs_len)\n",
    "cats_train_len = int(cats_len * (1 - test_data_portion))\n",
    "dogs_train_len = int(dogs_len * (1 - test_data_portion))\n",
    "print(cats_train_len, dogs_train_len)"
   ]
  },
  {
   "cell_type": "code",
   "execution_count": 32,
   "id": "657bb111",
   "metadata": {},
   "outputs": [
    {
     "ename": "NameError",
     "evalue": "name 'all_img_cats' is not defined",
     "output_type": "error",
     "traceback": [
      "\u001b[0;31m---------------------------------------------------------------------------\u001b[0m",
      "\u001b[0;31mNameError\u001b[0m                                 Traceback (most recent call last)",
      "Input \u001b[0;32mIn [32]\u001b[0m, in \u001b[0;36m<cell line: 1>\u001b[0;34m()\u001b[0m\n\u001b[0;32m----> 1\u001b[0m \u001b[38;5;28mprint\u001b[39m(\u001b[43mall_img_cats\u001b[49m[\u001b[38;5;241m0\u001b[39m])\n",
      "\u001b[0;31mNameError\u001b[0m: name 'all_img_cats' is not defined"
     ]
    }
   ],
   "source": [
    "print(all_img_cats[0])"
   ]
  },
  {
   "cell_type": "code",
   "execution_count": 63,
   "id": "462c3965",
   "metadata": {},
   "outputs": [],
   "source": [
    "for i in range(0, cats_train_len):\n",
    "    shutil.copy2(os.path.join(data_dir_cat,all_img_cats[i]), os.path.join(train_dir, \"cats\"))\n",
    "for i in range(0, dogs_train_len):\n",
    "    shutil.copy2(os.path.join(data_dir_dog, all_img_dogs[i]), os.path.join(train_dir, \"dogs\"))\n",
    "for i in range(cats_train_len, cats_len):\n",
    "    shutil.copy2(os.path.join(data_dir_cat, all_img_cats[i]), os.path.join(test_dir, \"cats\"))\n",
    "for i in range(dogs_train_len, dogs_len):\n",
    "    shutil.copy2(os.path.join(data_dir_dog, all_img_dogs[i]), os.path.join(test_dir, \"dogs\"))"
   ]
  },
  {
   "cell_type": "code",
   "execution_count": null,
   "id": "3296b753",
   "metadata": {},
   "outputs": [],
   "source": []
  },
  {
   "cell_type": "code",
   "execution_count": 33,
   "id": "f59b315e",
   "metadata": {},
   "outputs": [
    {
     "data": {
      "text/plain": [
       "800"
      ]
     },
     "execution_count": 33,
     "metadata": {},
     "output_type": "execute_result"
    }
   ],
   "source": [
    "check = os.listdir(os.path.join(train_dir, \"dogs\"))\n",
    "len(check)"
   ]
  },
  {
   "cell_type": "code",
   "execution_count": null,
   "id": "b7e040b9",
   "metadata": {},
   "outputs": [],
   "source": [
    "os.makedirs('./dataset/animals')\n",
    "os.makedirs(train_dir)\n",
    "os.makedirs(test_dir)\n",
    "\n",
    "os.makedirs(os.path.join(train_dir, \"cats\"))\n",
    "os.makedirs(os.path.join(train_dir, \"dogs\"))\n",
    "os.makedirs(os.path.join(test_dir, \"cats\"))\n",
    "os.makedirs(os.path.join(test_dir, \"dogs\"))"
   ]
  },
  {
   "cell_type": "code",
   "execution_count": 5,
   "id": "ffeeb39b",
   "metadata": {},
   "outputs": [],
   "source": [
    "def train_test_split_images(root_folder: str):\n",
    "    \"\"\"функция принимает аргумент - адрес корневой папку с изображениями,\n",
    "    берет изображения из подпапок этой папки и раскладывает по папкам\n",
    "    из описания задания\"\"\"\n",
    "    os.chdir('/Users/pskip/goinfre/tmp/cats_and_dogs_filtered/')\n",
    "    data_dir_cat = './dataset/cats'\n",
    "    data_dir_dog = './dataset/dogs'\n",
    "    # Каталог с данными для обучения\n",
    "    train_dir = './dataset/animals/train'\n",
    "    # Каталог с данными для проверки\n",
    "    val_dir = './validation'\n",
    "    # Каталог с данными для тестирования\n",
    "    test_dir = './dataset/animals/test'\n",
    "    \n",
    "    all_img_cats = os.listdir('./dataset/cats/')\n",
    "    all_img_dogs = os.listdir('./dataset/dogs/')\n",
    "    \n",
    "    cats_len = len(all_img_cats)\n",
    "    dogs_len = len(all_img_dogs)\n",
    "    #print(cats_len, dogs_len)\n",
    "    cats_train_len = int(cats_len * (1 - test_data_portion))\n",
    "    dogs_train_len = int(dogs_len * (1 - test_data_portion))\n",
    "    #print(cats_train_len, dogs_train_len)\n",
    "    for i in range(0, cats_train_len):\n",
    "        shutil.copy2(os.path.join(data_dir_cat,all_img_cats[i]), os.path.join(train_dir, \"cats\"))\n",
    "    for i in range(0, dogs_train_len):\n",
    "        shutil.copy2(os.path.join(data_dir_dog, all_img_dogs[i]), os.path.join(train_dir, \"dogs\"))\n",
    "    for i in range(cats_train_len, cats_len):\n",
    "        shutil.copy2(os.path.join(data_dir_cat, all_img_cats[i]), os.path.join(test_dir, \"cats\"))\n",
    "    for i in range(dogs_train_len, dogs_len):\n",
    "        shutil.copy2(os.path.join(data_dir_dog, all_img_dogs[i]), os.path.join(test_dir, \"dogs\"))\n",
    "train_test_split_images(project_dir)"
   ]
  },
  {
   "cell_type": "code",
   "execution_count": 5,
   "id": "c771642c",
   "metadata": {},
   "outputs": [],
   "source": [
    "np.random.seed(123)  # для воспроизводимости\n",
    "from keras.models import Sequential\n",
    "from keras.layers import ZeroPadding2D, Convolution2D, MaxPooling2D, Dropout, Flatten, Activation, Dense\n",
    "from keras.utils import np_utils\n",
    "from keras.utils import data_utils\n",
    "from keras.models import Sequential\n",
    "from keras.layers import Convolution2D, MaxPooling2D, Flatten, Dense, Dropout\n",
    "from scipy import cluster\n",
    "\n",
    "\n",
    "\n",
    "from keras.preprocessing.image import img_to_array\n",
    "from keras.applications import imagenet_utils\n",
    "from keras.preprocessing.image import ImageDataGenerator"
   ]
  },
  {
   "cell_type": "code",
   "execution_count": 6,
   "id": "31d7de49",
   "metadata": {},
   "outputs": [],
   "source": [
    "img_width, img_height = 224, 224\n",
    "batch_size = 16"
   ]
  },
  {
   "cell_type": "code",
   "execution_count": 7,
   "id": "4fccdeb0",
   "metadata": {},
   "outputs": [],
   "source": [
    "train_datagen = ImageDataGenerator(\n",
    "    rescale=1. / 255,  # приведем значения пикселей к 0-1\n",
    "    shear_range=0.2,   # максимальный угол поворота изображений\n",
    "    zoom_range=0.2,    # максимальное приближение изображений\n",
    "    horizontal_flip=True)  # используем повороты изображений для обогащения обучающей выборки\n",
    "\n",
    "test_datagen = ImageDataGenerator(rescale=1. / 255)  # замер качества мы должны проводить на оригинальных изображениях, \n",
    "                                                     # поэтому тестовую выборку мы не будем вращать и приближать"
   ]
  },
  {
   "cell_type": "code",
   "execution_count": 8,
   "id": "26c10341",
   "metadata": {},
   "outputs": [
    {
     "name": "stdout",
     "output_type": "stream",
     "text": [
      "Found 1600 images belonging to 2 classes.\n",
      "Found 400 images belonging to 2 classes.\n"
     ]
    }
   ],
   "source": [
    "train_generator = train_datagen.flow_from_directory(\n",
    "    train_dir,\n",
    "    target_size=(img_width, img_height),\n",
    "    batch_size=batch_size,\n",
    "    class_mode='categorical')\n",
    "\n",
    "test_generator =  test_datagen.flow_from_directory(\n",
    "    test_dir,\n",
    "    target_size=(img_width, img_height),\n",
    "    batch_size=batch_size,\n",
    "    class_mode='categorical')"
   ]
  },
  {
   "cell_type": "code",
   "execution_count": 40,
   "id": "14819201",
   "metadata": {
    "scrolled": true
   },
   "outputs": [],
   "source": [
    "def VGG_19_mine(weights_path=None):\n",
    "    model = Sequential()\n",
    "    # Block 1\n",
    "    model.add(Convolution2D(64, (3, 3), activation='relu', padding='same', input_shape=(img_width, img_height, 3), name='block1_conv1'))\n",
    "    model.add(Convolution2D(64, (3, 3), activation='relu', padding='same', name='block1_conv2'))\n",
    "    model.add(MaxPooling2D(pool_size=(2, 2), strides=(2, 2), padding='same', name='block1_pool'))\n",
    "    # Block 2\n",
    "    model.add(Convolution2D(128, (3, 3), activation='relu', padding='same', name='block2_conv1'))\n",
    "    model.add(Convolution2D(128, (3, 3), activation='relu', padding='same', name='block2_conv2'))\n",
    "    model.add(MaxPooling2D(pool_size=(2, 2), strides=(2, 2), padding='same', name='block2_pool'))\n",
    "    # Block 3\n",
    "    model.add(Convolution2D(256, (3, 3), activation='relu', padding='same', name='block3_conv1'))\n",
    "    model.add(Convolution2D(256, (3, 3), activation='relu', padding='same', name='block3_conv2'))\n",
    "    model.add(Convolution2D(256, (3, 3), activation='relu', padding='same', name='block3_conv3'))\n",
    "    model.add(Convolution2D(256, (3, 3), activation='relu', padding='same', name='block3_conv4'))\n",
    "    model.add(MaxPooling2D(pool_size=(2, 2), strides=(2, 2), padding='same', name='block3_pool'))\n",
    "    # Block 4\n",
    "    model.add(Convolution2D(512, (3, 3), activation='relu', padding='same', name='block4_conv1'))\n",
    "    model.add(Convolution2D(512, (3, 3), activation='relu', padding='same', name='block4_conv2'))\n",
    "    model.add(Convolution2D(512, (3, 3), activation='relu', padding='same', name='block4_conv3'))\n",
    "    model.add(Convolution2D(512, (3, 3), activation='relu', padding='same', name='block4_conv4'))\n",
    "    model.add(MaxPooling2D(pool_size=(2, 2), strides=(2, 2), padding='same', name='block4_pool'))\n",
    "    # Block 5\n",
    "    model.add(Convolution2D(512, (3, 3), activation='relu', padding='same', name='block5_conv1'))\n",
    "    model.add(Convolution2D(512, (3, 3), activation='relu', padding='same', name='block5_conv2'))\n",
    "    model.add(Convolution2D(512, (3, 3), activation='relu', padding='same', name='block5_conv3'))\n",
    "    model.add(Convolution2D(512, (3, 3), activation='relu', padding='same', name='block5_conv4'))\n",
    "    model.add(MaxPooling2D(pool_size=(2, 2), strides=(2, 2), padding='same', name='block5_pool'))\n",
    "    # Imagenet\n",
    "    model.add(Flatten(name='flatten'))\n",
    "    model.add(Dense(4096, activation='relu', name='fc1'))\n",
    "    model.add(Dense(4096, activation='relu', name='fc2'))\n",
    "    model.add(Dense(1000, activation='softmax', name='predictions'))\n",
    "    \n",
    "    if weights_path:\n",
    "        model.load_weights(weights_path)\n",
    "    return model"
   ]
  },
  {
   "cell_type": "code",
   "execution_count": 43,
   "id": "59328aa2",
   "metadata": {},
   "outputs": [],
   "source": [
    "model = VGG_19_mine('vgg19_weights_tf_dim_ordering_tf_kernels.h5')\n",
    "model.add(Dense(2, activation='softmax'))\n",
    "model.compile(loss='categorical_crossentropy', optimizer='sgd', metrics=['accuracy'])"
   ]
  },
  {
   "cell_type": "code",
   "execution_count": 44,
   "id": "93df0a1d",
   "metadata": {
    "scrolled": true
   },
   "outputs": [
    {
     "name": "stderr",
     "output_type": "stream",
     "text": [
      "/var/folders/zz/zyxvpxvq6csfxvn_n003vpk800yxmk/T/ipykernel_52876/2879831414.py:1: UserWarning: `Model.fit_generator` is deprecated and will be removed in a future version. Please use `Model.fit`, which supports generators.\n",
      "  history = model.fit_generator(\n"
     ]
    },
    {
     "name": "stdout",
     "output_type": "stream",
     "text": [
      "Epoch 1/20\n",
      "150/150 [==============================] - 1077s 7s/step - loss: 0.6933 - accuracy: 0.4908 - val_loss: 0.6927 - val_accuracy: 0.5389\n",
      "Epoch 2/20\n",
      "150/150 [==============================] - 1014s 7s/step - loss: 0.6926 - accuracy: 0.5346 - val_loss: 0.6907 - val_accuracy: 0.6943\n",
      "Epoch 3/20\n",
      "150/150 [==============================] - 962s 6s/step - loss: 0.6814 - accuracy: 0.6529 - val_loss: 0.6808 - val_accuracy: 0.5777\n",
      "Epoch 4/20\n",
      "150/150 [==============================] - 955s 6s/step - loss: 0.6117 - accuracy: 0.7871 - val_loss: 0.5133 - val_accuracy: 0.9307\n",
      "Epoch 5/20\n",
      "150/150 [==============================] - 954s 6s/step - loss: 0.4761 - accuracy: 0.8975 - val_loss: 0.3859 - val_accuracy: 0.9628\n",
      "Epoch 6/20\n",
      "150/150 [==============================] - 956s 6s/step - loss: 0.3915 - accuracy: 0.9187 - val_loss: 0.3172 - val_accuracy: 0.9628\n",
      "Epoch 7/20\n",
      "150/150 [==============================] - 956s 6s/step - loss: 0.3314 - accuracy: 0.9283 - val_loss: 0.2946 - val_accuracy: 0.9443\n",
      "Epoch 8/20\n",
      "150/150 [==============================] - 959s 6s/step - loss: 0.2932 - accuracy: 0.9312 - val_loss: 0.2303 - val_accuracy: 0.9696\n",
      "Epoch 9/20\n",
      "150/150 [==============================] - 958s 6s/step - loss: 0.2275 - accuracy: 0.9613 - val_loss: 0.1957 - val_accuracy: 0.9696\n",
      "Epoch 10/20\n",
      "150/150 [==============================] - 957s 6s/step - loss: 0.4825 - accuracy: 0.7950 - val_loss: 0.8485 - val_accuracy: 0.5084\n",
      "Epoch 11/20\n",
      "150/150 [==============================] - 972s 6s/step - loss: 0.7485 - accuracy: 0.5063 - val_loss: 0.7009 - val_accuracy: 0.5135\n",
      "Epoch 12/20\n",
      "150/150 [==============================] - 957s 6s/step - loss: 0.6968 - accuracy: 0.5000 - val_loss: 0.6934 - val_accuracy: 0.5034\n",
      "Epoch 13/20\n",
      "150/150 [==============================] - 957s 6s/step - loss: 0.6936 - accuracy: 0.4996 - val_loss: 0.6932 - val_accuracy: 0.5000\n",
      "Epoch 14/20\n",
      "150/150 [==============================] - 956s 6s/step - loss: 0.6935 - accuracy: 0.4875 - val_loss: 0.6931 - val_accuracy: 0.4949\n",
      "Epoch 15/20\n",
      "150/150 [==============================] - 958s 6s/step - loss: 0.6933 - accuracy: 0.5008 - val_loss: 0.6929 - val_accuracy: 0.5101\n",
      "Epoch 16/20\n",
      "150/150 [==============================] - 957s 6s/step - loss: 0.6933 - accuracy: 0.5046 - val_loss: 0.6931 - val_accuracy: 0.5068\n",
      "Epoch 17/20\n",
      "150/150 [==============================] - 959s 6s/step - loss: 0.6934 - accuracy: 0.5025 - val_loss: 0.6931 - val_accuracy: 0.5034\n",
      "Epoch 18/20\n",
      "150/150 [==============================] - 958s 6s/step - loss: 0.6933 - accuracy: 0.5079 - val_loss: 0.6930 - val_accuracy: 0.5084\n",
      "Epoch 19/20\n",
      "150/150 [==============================] - 958s 6s/step - loss: 0.6934 - accuracy: 0.4812 - val_loss: 0.6932 - val_accuracy: 0.4916\n",
      "Epoch 20/20\n",
      "150/150 [==============================] - 959s 6s/step - loss: 0.6934 - accuracy: 0.4904 - val_loss: 0.6931 - val_accuracy: 0.4865\n"
     ]
    }
   ],
   "source": [
    "history = model.fit_generator(\n",
    "    train_generator,\n",
    "    steps_per_epoch=2400 // batch_size,\n",
    "    epochs=20,\n",
    "    workers = 3,\n",
    "    validation_data=test_generator,\n",
    "    validation_steps=600 // batch_size)"
   ]
  },
  {
   "cell_type": "code",
   "execution_count": 1,
   "id": "db998753",
   "metadata": {},
   "outputs": [],
   "source": [
    "hisTor = [0.4908,0.5346,0.6529,0.7871,0.8975,0.9187,0.9283,0.9312,0.9613,0.7950,0.5063,0.5000,0.4996,0.4875,0.5008,0.5046,0.5025,0.5079,0.4812,0.4904]"
   ]
  },
  {
   "cell_type": "code",
   "execution_count": 2,
   "id": "7aee8653",
   "metadata": {},
   "outputs": [
    {
     "data": {
      "text/plain": [
       "<matplotlib.legend.Legend at 0x1237ee3d0>"
      ]
     },
     "execution_count": 2,
     "metadata": {},
     "output_type": "execute_result"
    },
    {
     "data": {
      "image/png": "[encoded data removed]",
      "text/plain": [
       "<Figure size 432x288 with 1 Axes>"
      ]
     },
     "metadata": {
      "needs_background": "light"
     },
     "output_type": "display_data"
    }
   ],
   "source": [
    "import matplotlib.pyplot as plt\n",
    "\n",
    "# summarize history for accuracy \n",
    "plt.subplot(1,2,1)\n",
    "plt.plot(hisTor)\n",
    "plt.title('model accuracy')\n",
    "plt.ylabel('accuracy')\n",
    "plt.xlabel('epoch')\n",
    "plt.legend(['train', 'test'], loc='upper left')"
   ]
  },
  {
   "cell_type": "code",
   "execution_count": 11,
   "id": "33733e98",
   "metadata": {
    "scrolled": true
   },
   "outputs": [
    {
     "ename": "NameError",
     "evalue": "name 'history' is not defined",
     "output_type": "error",
     "traceback": [
      "\u001b[0;31m---------------------------------------------------------------------------\u001b[0m",
      "\u001b[0;31mNameError\u001b[0m                                 Traceback (most recent call last)",
      "Input \u001b[0;32mIn [11]\u001b[0m, in \u001b[0;36m<cell line: 5>\u001b[0;34m()\u001b[0m\n\u001b[1;32m      3\u001b[0m \u001b[38;5;66;03m# summarize history for accuracy \u001b[39;00m\n\u001b[1;32m      4\u001b[0m plt\u001b[38;5;241m.\u001b[39msubplot(\u001b[38;5;241m1\u001b[39m,\u001b[38;5;241m2\u001b[39m,\u001b[38;5;241m1\u001b[39m)\n\u001b[0;32m----> 5\u001b[0m plt\u001b[38;5;241m.\u001b[39mplot(\u001b[43mhistory\u001b[49m\u001b[38;5;241m.\u001b[39mhistory[\u001b[38;5;124m'\u001b[39m\u001b[38;5;124maccuracy\u001b[39m\u001b[38;5;124m'\u001b[39m])\n\u001b[1;32m      6\u001b[0m plt\u001b[38;5;241m.\u001b[39mplot(history\u001b[38;5;241m.\u001b[39mhistory[\u001b[38;5;124m'\u001b[39m\u001b[38;5;124mval_accuracy\u001b[39m\u001b[38;5;124m'\u001b[39m])\n\u001b[1;32m      7\u001b[0m plt\u001b[38;5;241m.\u001b[39mtitle(\u001b[38;5;124m'\u001b[39m\u001b[38;5;124mmodel accuracy\u001b[39m\u001b[38;5;124m'\u001b[39m)\n",
      "\u001b[0;31mNameError\u001b[0m: name 'history' is not defined"
     ]
    },
    {
     "data": {
      "image/png": "[encoded data removed]",
      "text/plain": [
       "<Figure size 432x288 with 1 Axes>"
      ]
     },
     "metadata": {
      "needs_background": "light"
     },
     "output_type": "display_data"
    }
   ],
   "source": [
    "import matplotlib.pyplot as plt\n",
    "\n",
    "# summarize history for accuracy \n",
    "plt.subplot(1,2,1)\n",
    "plt.plot(history.history['accuracy'])\n",
    "plt.plot(history.history['val_accuracy'])\n",
    "plt.title('model accuracy')\n",
    "plt.ylabel('accuracy')\n",
    "plt.xlabel('epoch')\n",
    "plt.legend(['train', 'test'], loc='upper left')\n",
    "# plt.show()\n",
    "# summarize history for loss\n",
    "plt.subplot(1,2,2)\n",
    "plt.plot(history.history['loss'])\n",
    "plt.plot(history.history['val_loss'])\n",
    "plt.title('model loss')\n",
    "plt.ylabel('loss')\n",
    "plt.xlabel('epoch')\n",
    "plt.legend(['train', 'test'], loc='upper right')\n",
    "plt.show()"
   ]
  },
  {
   "cell_type": "code",
   "execution_count": 46,
   "id": "a3b71311",
   "metadata": {
    "scrolled": false
   },
   "outputs": [
    {
     "name": "stderr",
     "output_type": "stream",
     "text": [
      "/var/folders/zz/zyxvpxvq6csfxvn_n003vpk800yxmk/T/ipykernel_52876/207988840.py:9: UserWarning: `Model.fit_generator` is deprecated and will be removed in a future version. Please use `Model.fit`, which supports generators.\n",
      "  history_vgg19 = ready_model.fit_generator(train_generator,\n"
     ]
    },
    {
     "name": "stdout",
     "output_type": "stream",
     "text": [
      "Epoch 1/20\n",
      "100/150 [===================>..........] - ETA: 5:00 - loss: 0.6925 - accuracy: 0.5412WARNING:tensorflow:Your input ran out of data; interrupting training. Make sure that your dataset or generator can generate at least `steps_per_epoch * epochs` batches (in this case, 3000 batches). You may need to use the repeat() function when building your dataset.\n",
      "WARNING:tensorflow:Your input ran out of data; interrupting training. Make sure that your dataset or generator can generate at least `steps_per_epoch * epochs` batches (in this case, 37 batches). You may need to use the repeat() function when building your dataset.\n",
      "150/150 [==============================] - 637s 4s/step - loss: 0.6925 - accuracy: 0.5412 - val_loss: 0.6918 - val_accuracy: 0.5000\n"
     ]
    }
   ],
   "source": [
    "#task4\n",
    "from keras.applications.vgg19 import VGG19\n",
    "\n",
    "ready_model = Sequential()\n",
    "ready_model.add(VGG19(weights='imagenet'))\n",
    "ready_model.add(Dense(2, activation='softmax')) \n",
    "ready_model.compile(optimizer='sgd', loss='categorical_crossentropy', metrics=[\"accuracy\"])\n",
    "\n",
    "history_vgg19 = ready_model.fit_generator(train_generator,\n",
    "                                          steps_per_epoch=2400 // batch_size,\n",
    "                                          epochs=20,\n",
    "                                          validation_data=test_generator,\n",
    "                                          validation_steps=600 // batch_size)"
   ]
  },
  {
   "cell_type": "code",
   "execution_count": 47,
   "id": "669c7380",
   "metadata": {},
   "outputs": [
    {
     "name": "stdout",
     "output_type": "stream",
     "text": [
      "Downloading data from https://storage.googleapis.com/tensorflow/keras-applications/efficientnet_v2/efficientnetv2-s.h5\n",
      "87556096/87549136 [==============================] - 3s 0us/step\n",
      "87564288/87549136 [==============================] - 3s 0us/step\n"
     ]
    },
    {
     "name": "stderr",
     "output_type": "stream",
     "text": [
      "/var/folders/zz/zyxvpxvq6csfxvn_n003vpk800yxmk/T/ipykernel_52876/1851601702.py:8: UserWarning: `Model.fit_generator` is deprecated and will be removed in a future version. Please use `Model.fit`, which supports generators.\n",
      "  history_eff_v2s = en_v2s.fit_generator(train_generator,\n"
     ]
    },
    {
     "name": "stdout",
     "output_type": "stream",
     "text": [
      "Epoch 1/20\n",
      "150/150 [==============================] - 610s 4s/step - loss: 0.6941 - accuracy: 0.4350 - val_loss: 0.6941 - val_accuracy: 0.4291\n",
      "Epoch 2/20\n",
      "150/150 [==============================] - 599s 4s/step - loss: 0.6938 - accuracy: 0.4567 - val_loss: 0.6937 - val_accuracy: 0.4764\n",
      "Epoch 3/20\n",
      "150/150 [==============================] - 599s 4s/step - loss: 0.6936 - accuracy: 0.4867 - val_loss: 0.6936 - val_accuracy: 0.4662\n",
      "Epoch 4/20\n",
      "150/150 [==============================] - 599s 4s/step - loss: 0.6936 - accuracy: 0.4758 - val_loss: 0.6934 - val_accuracy: 0.4831\n",
      "Epoch 5/20\n",
      "150/150 [==============================] - 599s 4s/step - loss: 0.6933 - accuracy: 0.4787 - val_loss: 0.6933 - val_accuracy: 0.4882\n",
      "Epoch 6/20\n",
      "150/150 [==============================] - 599s 4s/step - loss: 0.6931 - accuracy: 0.4971 - val_loss: 0.6934 - val_accuracy: 0.5000\n",
      "Epoch 7/20\n",
      "150/150 [==============================] - 599s 4s/step - loss: 0.6930 - accuracy: 0.5183 - val_loss: 0.6933 - val_accuracy: 0.5051\n",
      "Epoch 8/20\n",
      "150/150 [==============================] - 599s 4s/step - loss: 0.6929 - accuracy: 0.5267 - val_loss: 0.6932 - val_accuracy: 0.5118\n",
      "Epoch 9/20\n",
      "150/150 [==============================] - 599s 4s/step - loss: 0.6926 - accuracy: 0.5304 - val_loss: 0.6929 - val_accuracy: 0.5084\n",
      "Epoch 10/20\n",
      "150/150 [==============================] - 599s 4s/step - loss: 0.6924 - accuracy: 0.5033 - val_loss: 0.6925 - val_accuracy: 0.5118\n",
      "Epoch 11/20\n",
      "150/150 [==============================] - 600s 4s/step - loss: 0.6926 - accuracy: 0.5004 - val_loss: 0.6928 - val_accuracy: 0.5203\n",
      "Epoch 12/20\n",
      "150/150 [==============================] - 599s 4s/step - loss: 0.6922 - accuracy: 0.5654 - val_loss: 0.6925 - val_accuracy: 0.5693\n",
      "Epoch 13/20\n",
      "150/150 [==============================] - 600s 4s/step - loss: 0.6920 - accuracy: 0.5521 - val_loss: 0.6925 - val_accuracy: 0.5118\n",
      "Epoch 14/20\n",
      "150/150 [==============================] - 599s 4s/step - loss: 0.6916 - accuracy: 0.5779 - val_loss: 0.6923 - val_accuracy: 0.6182\n",
      "Epoch 15/20\n",
      "150/150 [==============================] - 599s 4s/step - loss: 0.6916 - accuracy: 0.6083 - val_loss: 0.6922 - val_accuracy: 0.5304\n",
      "Epoch 16/20\n",
      "150/150 [==============================] - 600s 4s/step - loss: 0.6913 - accuracy: 0.5742 - val_loss: 0.6921 - val_accuracy: 0.5034\n",
      "Epoch 17/20\n",
      "150/150 [==============================] - 599s 4s/step - loss: 0.6909 - accuracy: 0.5721 - val_loss: 0.6916 - val_accuracy: 0.5338\n",
      "Epoch 18/20\n",
      "150/150 [==============================] - 600s 4s/step - loss: 0.6906 - accuracy: 0.5846 - val_loss: 0.6915 - val_accuracy: 0.5608\n",
      "Epoch 19/20\n",
      "150/150 [==============================] - 600s 4s/step - loss: 0.6904 - accuracy: 0.6254 - val_loss: 0.6914 - val_accuracy: 0.6622\n",
      "Epoch 20/20\n",
      "150/150 [==============================] - 603s 4s/step - loss: 0.6897 - accuracy: 0.6979 - val_loss: 0.6907 - val_accuracy: 0.6166\n"
     ]
    }
   ],
   "source": [
    "from keras.applications.efficientnet_v2 import EfficientNetV2S\n",
    "\n",
    "en_v2s = Sequential()\n",
    "en_v2s.add(EfficientNetV2S(weights='imagenet'))\n",
    "en_v2s.add(Dense(2, activation='softmax')) \n",
    "en_v2s.compile(optimizer='sgd', loss='categorical_crossentropy', metrics=[\"accuracy\"])\n",
    "\n",
    "history_eff_v2s = en_v2s.fit_generator(train_generator,\n",
    "                                       steps_per_epoch=2400 // batch_size,\n",
    "                                       epochs=20, workers = 3,\n",
    "                                       validation_data=test_generator,\n",
    "                                       validation_steps=600 // batch_size)"
   ]
  },
  {
   "cell_type": "code",
   "execution_count": 9,
   "id": "0341c013",
   "metadata": {},
   "outputs": [
    {
     "name": "stderr",
     "output_type": "stream",
     "text": [
      "2022-04-19 13:34:32.828114: I tensorflow/core/platform/cpu_feature_guard.cc:151] This TensorFlow binary is optimized with oneAPI Deep Neural Network Library (oneDNN) to use the following CPU instructions in performance-critical operations:  AVX2 FMA\n",
      "To enable them in other operations, rebuild TensorFlow with the appropriate compiler flags.\n"
     ]
    },
    {
     "name": "stdout",
     "output_type": "stream",
     "text": [
      "Downloading data from https://storage.googleapis.com/tensorflow/keras-applications/resnet/resnet50_weights_tf_dim_ordering_tf_kernels.h5\n",
      "102973440/102967424 [==============================] - 2s 0us/step\n",
      "102981632/102967424 [==============================] - 2s 0us/step\n"
     ]
    },
    {
     "name": "stderr",
     "output_type": "stream",
     "text": [
      "/var/folders/zz/zyxvpxvq6csfxvn_n003vpk800yxmk/T/ipykernel_29446/1481911755.py:9: UserWarning: `Model.fit_generator` is deprecated and will be removed in a future version. Please use `Model.fit`, which supports generators.\n",
      "  history_rn50 = resnet_50.fit_generator(train_generator,\n"
     ]
    },
    {
     "name": "stdout",
     "output_type": "stream",
     "text": [
      "Epoch 1/20\n",
      "150/150 [==============================] - 515s 3s/step - loss: 0.6900 - accuracy: 0.6263 - val_loss: 0.6934 - val_accuracy: 0.4966\n",
      "Epoch 2/20\n",
      "150/150 [==============================] - 506s 3s/step - loss: 0.6864 - accuracy: 0.6392 - val_loss: 0.6934 - val_accuracy: 0.5000\n",
      "Epoch 3/20\n",
      "150/150 [==============================] - 509s 3s/step - loss: 0.6765 - accuracy: 0.7754 - val_loss: 0.6935 - val_accuracy: 0.4932\n",
      "Epoch 4/20\n",
      "150/150 [==============================] - 505s 3s/step - loss: 0.6336 - accuracy: 0.8696 - val_loss: 0.6873 - val_accuracy: 0.5574\n",
      "Epoch 5/20\n",
      "150/150 [==============================] - 507s 3s/step - loss: 0.5072 - accuracy: 0.9358 - val_loss: 0.5157 - val_accuracy: 0.8514\n",
      "Epoch 6/20\n",
      "150/150 [==============================] - 504s 3s/step - loss: 0.3634 - accuracy: 0.9650 - val_loss: 0.3278 - val_accuracy: 0.9595\n",
      "Epoch 7/20\n",
      "150/150 [==============================] - 511s 3s/step - loss: 0.2715 - accuracy: 0.9767 - val_loss: 0.2720 - val_accuracy: 0.9443\n",
      "Epoch 8/20\n",
      "150/150 [==============================] - 565s 4s/step - loss: 0.2174 - accuracy: 0.9808 - val_loss: 0.1959 - val_accuracy: 0.9831\n",
      "Epoch 9/20\n",
      "150/150 [==============================] - 559s 4s/step - loss: 0.1710 - accuracy: 0.9921 - val_loss: 0.1676 - val_accuracy: 0.9814\n",
      "Epoch 10/20\n",
      "150/150 [==============================] - 530s 4s/step - loss: 0.1449 - accuracy: 0.9908 - val_loss: 0.1516 - val_accuracy: 0.9865\n",
      "Epoch 11/20\n",
      "150/150 [==============================] - 559s 4s/step - loss: 0.1234 - accuracy: 0.9937 - val_loss: 0.1564 - val_accuracy: 0.9679\n",
      "Epoch 12/20\n",
      "150/150 [==============================] - 559s 4s/step - loss: 0.1131 - accuracy: 0.9908 - val_loss: 0.1165 - val_accuracy: 0.9865\n",
      "Epoch 13/20\n",
      "150/150 [==============================] - 532s 4s/step - loss: 0.0990 - accuracy: 0.9933 - val_loss: 0.1314 - val_accuracy: 0.9747\n",
      "Epoch 14/20\n",
      "150/150 [==============================] - 507s 3s/step - loss: 0.0857 - accuracy: 0.9958 - val_loss: 0.1015 - val_accuracy: 0.9865\n",
      "Epoch 15/20\n",
      "150/150 [==============================] - 583s 4s/step - loss: 0.0736 - accuracy: 0.9983 - val_loss: 0.0950 - val_accuracy: 0.9814\n",
      "Epoch 16/20\n",
      "150/150 [==============================] - 611s 4s/step - loss: 0.0671 - accuracy: 0.9983 - val_loss: 0.1013 - val_accuracy: 0.9764\n",
      "Epoch 17/20\n",
      "150/150 [==============================] - 550s 4s/step - loss: 0.0644 - accuracy: 0.9971 - val_loss: 0.0862 - val_accuracy: 0.9865\n",
      "Epoch 18/20\n",
      "150/150 [==============================] - 506s 3s/step - loss: 0.0630 - accuracy: 0.9958 - val_loss: 0.1082 - val_accuracy: 0.9747\n",
      "Epoch 19/20\n",
      "150/150 [==============================] - 507s 3s/step - loss: 0.0558 - accuracy: 0.9975 - val_loss: 0.0989 - val_accuracy: 0.9797\n",
      "Epoch 20/20\n",
      "150/150 [==============================] - 506s 3s/step - loss: 0.0508 - accuracy: 0.9983 - val_loss: 0.0951 - val_accuracy: 0.9747\n"
     ]
    }
   ],
   "source": [
    "from keras.applications.resnet import ResNet50\n",
    "\n",
    "\n",
    "resnet_50 = Sequential()\n",
    "resnet_50.add(ResNet50(weights='imagenet'))\n",
    "resnet_50.add(Dense(2, activation='softmax')) \n",
    "resnet_50.compile(optimizer='sgd', loss='categorical_crossentropy', metrics=[\"accuracy\"])\n",
    "\n",
    "history_rn50 = resnet_50.fit_generator(train_generator,\n",
    "                                       steps_per_epoch=2400 // batch_size,\n",
    "                                       epochs=20, workers = 3,\n",
    "                                       validation_data=test_generator,\n",
    "                                       validation_steps=600 // batch_size)"
   ]
  },
  {
   "cell_type": "code",
   "execution_count": 12,
   "id": "74eb4fca",
   "metadata": {},
   "outputs": [
    {
     "data": {
      "text/plain": [
       "<matplotlib.legend.Legend at 0x15716ab80>"
      ]
     },
     "execution_count": 12,
     "metadata": {},
     "output_type": "execute_result"
    },
    {
     "data": {
      "image/png": "[encoded data removed]",
      "text/plain": [
       "<Figure size 432x288 with 1 Axes>"
      ]
     },
     "metadata": {
      "needs_background": "light"
     },
     "output_type": "display_data"
    }
   ],
   "source": [
    "# summarize history for accuracy \n",
    "plt.subplot(1,2,1)\n",
    "# plt.plot(history.history['accuracy'])\n",
    "#plt.plot(history.history['val_accuracy'])\n",
    "#plt.plot(history_vgg19.history['val_accuracy'])\n",
    "plt.plot(history_rn50.history['val_accuracy'])\n",
    "#plt.plot(history_eff_v2s.history['val_accuracy'])\n",
    "plt.title('models accuracy')\n",
    "plt.ylabel('accuracy test')\n",
    "plt.xlabel('epoch')\n",
    "#plt.legend(['our', 'VGG19', 'ResNet50', 'EfficientNetV2S'], loc='upper left')\n",
    "plt.legend(['ResNet50'], loc='upper left')\n"
   ]
  }
 ],
 "metadata": {
  "kernelspec": {
   "display_name": "Python 3 (ipykernel)",
   "language": "python",
   "name": "python3"
  },
  "language_info": {
   "codemirror_mode": {
    "name": "ipython",
    "version": 3
   },
   "file_extension": ".py",
   "mimetype": "text/x-python",
   "name": "python",
   "nbconvert_exporter": "python",
   "pygments_lexer": "ipython3",
   "version": "3.9.9"
  }
 },
 "nbformat": 4,
 "nbformat_minor": 5
}
