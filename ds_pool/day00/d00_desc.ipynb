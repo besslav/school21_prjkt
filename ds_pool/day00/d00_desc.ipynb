{
 "cells": [
  {
   "cell_type": "code",
   "execution_count": 28,
   "id": "c14544d3",
   "metadata": {},
   "outputs": [
    {
     "name": "stdout",
     "output_type": "stream",
     "text": [
      "Введите количество дней в феврале: а\n",
      "input isnt num\n"
     ]
    }
   ],
   "source": [
    "try:\n",
    "    days = int(input('Введите количество дней в феврале: '))\n",
    "except ValueError:\n",
    "    print(\"input isnt num\")\n",
    "else:\n",
    "    if (days == 28 or days == 29):\n",
    "        total = 0\n",
    "        for worker in range(0, 4):\n",
    "            print(\"всего за февраль работяга\", (worker + 1), \"отработаeт\", ((days // 4 * 2) + (min(days % 4, 2))) * 12)\n",
    "            total += ((days // 4 * 2) + (min(days % 4, 2))) * 12\n",
    "            days -= 1\n",
    "        print(\"всего за февраль работяги отработают\", total, \"часов\")\n",
    "    else:\n",
    "        print(\"в феврале 28 или 29 дней\")\n"
   ]
  },
  {
   "cell_type": "code",
   "execution_count": 42,
   "id": "d294369b",
   "metadata": {},
   "outputs": [
    {
     "name": "stdout",
     "output_type": "stream",
     "text": [
      "5\n",
      "bad input\n",
      "Ошибки не выявлены\n"
     ]
    }
   ],
   "source": [
    "def time_metric_down(time, metric, metric_down):\n",
    "    \"\"\"time - количество единиц времени, целое число;\n",
    "        metric - единица измерения времени ('w', 'd', 'h', 'm');\n",
    "        metric_down - в какой единице измерения необходимо получить результат ('d', 'h', 'm', 's');\n",
    "        metric_down обзательно меньше чем metric\n",
    "        if error return 0\"\"\"\n",
    "    \n",
    "    if (metric not in ['w', 'd', 'h', 'm'] or metric_down not in ['d', 'h', 'm', 's']):\n",
    "        return \"bad input\"\n",
    "    data = [['w', 7], ['d', 24], ['h', 60], ['m', 60], ['s', 0]]\n",
    "    if (type(time) != int):\n",
    "        return \"bad input\"\n",
    "    i = 0;\n",
    "    while (metric != data[i][0]):\n",
    "        if (metric_down == data[i][0]):\n",
    "            return \"bad input\"\n",
    "        i += 1\n",
    "    while (data[i][0] != metric_down):\n",
    "        time *= data[i][1]\n",
    "        i += 1\n",
    "    return (time)\n",
    "\n",
    "\n",
    "print (time_metric_down(5, 'd', 'd'))\n",
    "print (time_metric_down(1, 'w', 'w'))\n",
    "if (time_metric_down(10, 'h', 's') == 36000 and time_metric_down(1, 'w', 'd') == 7 and \n",
    "    time_metric_down(1, 'w', 'h') == 168 and time_metric_down(1, 'w', 'm') == 10080 and \n",
    "    time_metric_down(1, 'w', 's') == 604800):\n",
    "    print('Ошибки не выявлены')\n",
    "else:\n",
    "    print('Выявлены ошибки')"
   ]
  },
  {
   "cell_type": "code",
   "execution_count": 67,
   "id": "c2757190",
   "metadata": {},
   "outputs": [
    {
     "name": "stdout",
     "output_type": "stream",
     "text": [
      "factorial1 - 13.02%\n",
      "factorial2 - 94.27%\n",
      "factorial3 - 75.9%\n",
      "factorial4 - 100.0%\n",
      "factorial5 - 90.26%\n",
      "factorial6 - 22.81%\n"
     ]
    },
    {
     "data": {
      "image/png": "[encoded data removed]",
      "text/plain": [
       "<Figure size 432x288 with 1 Axes>"
      ]
     },
     "metadata": {
      "needs_background": "light"
     },
     "output_type": "display_data"
    },
    {
     "name": "stdout",
     "output_type": "stream",
     "text": [
      "Ошибки не выявлены\n"
     ]
    }
   ],
   "source": [
    "from math import factorial as fctrl\n",
    "from functools import reduce\n",
    "import numpy as np\n",
    "from timeit import timeit\n",
    "import matplotlib.pyplot as plt\n",
    "\n",
    "def factorial1(n):\n",
    "    return fctrl(n)\n",
    "\n",
    "def factorial2(n):\n",
    "    i = 1\n",
    "    ans = 1\n",
    "    while (i < n + 1):\n",
    "        ans *= i\n",
    "        i += 1\n",
    "    return ans\n",
    "\n",
    "def factorial3(n):\n",
    "    s = 1\n",
    "    for j in range(1, n + 1):\n",
    "        s *= j\n",
    "    return s\n",
    "\n",
    "def factorial4(n):\n",
    "    if n == 0:\n",
    "        return 1\n",
    "    return (factorial4(n - 1) * n)\n",
    "\n",
    "def factorial5(n):\n",
    "    return (reduce(lambda x, y: x*y, [i for i in range (1, n + 1)]))\n",
    "\n",
    "def factorial6(n):\n",
    "    return np.prod([i for i in range (1, n + 1)])\n",
    "\n",
    "\n",
    "func = ['factorial1', 'factorial2', 'factorial3',\n",
    "        'factorial4', 'factorial5', 'factorial6']  # Создание списка имен функций\n",
    "time = []                                          # Создание пустого списка времени выполнения функций\n",
    "# Далее код, который в цикле запускает функции, определяет время их выполнения 100 раз\n",
    "# и записывает результат в список time\n",
    "if __name__ == '__main__':\n",
    "    for j in func:\n",
    "        time.append(timeit(j+'(1000)', setup = 'from __main__ import '+j, number = 100))\n",
    "\n",
    "time = np.array(time)                              # Перевод списка в массив numpy, для удобства вычислений\n",
    "time = time*100/time.max() \n",
    "\n",
    "for i, j in zip(func, time):\n",
    "    print(i, '-', str(round(j,2))+'%')\n",
    "    \n",
    "plt.bar(func, time)             # Строим гистограмму\n",
    "plt.show()\n",
    "\n",
    "\n",
    "def best_fctrl(n):\n",
    "    return fctrl(n)\n",
    "\n",
    "if (best_fctrl(0) == 1 and best_fctrl(1) == 1 and best_fctrl(2) == 2 and best_fctrl(3) == 6 and \n",
    "    best_fctrl(10) == 3628800):\n",
    "    print('Ошибки не выявлены')\n",
    "else:\n",
    "    print('Выявлены ошибки')"
   ]
  },
  {
   "cell_type": "code",
   "execution_count": 57,
   "id": "e7b7a6c9",
   "metadata": {},
   "outputs": [
    {
     "name": "stdout",
     "output_type": "stream",
     "text": [
      "put workers, tasks, time, overall_time in line, sep = ' ' \n",
      "3 4 5 g\n",
      "bad input\n"
     ]
    }
   ],
   "source": [
    "def new_workers(workers, tasks, time, overall_time):\n",
    "    if ((type(workers) != int) or (type(time) != int) or (type(tasks) != int) or type(overall_time) != int):\n",
    "        print(\"bad input\")\n",
    "        return -1\n",
    "    job_for_one = overall_time // time\n",
    "    need_workers_at_all = (tasks // job_for_one) + min(1, tasks % job_for_one)\n",
    "    if (need_workers_at_all > workers):\n",
    "        return (need_workers_at_all - workers)\n",
    "    return 0\n",
    "try:\n",
    "    workers, tasks, time, overall_time = input(\"put workers, tasks, time, overall_time in line, sep = ' ' \\n\").split()\n",
    "    print(new_workers(int(workers), int(tasks), int(time), int(overall_time)))\n",
    "except ValueError:\n",
    "    print(\"bad input\")"
   ]
  },
  {
   "cell_type": "code",
   "execution_count": null,
   "id": "eb3ea4fb",
   "metadata": {},
   "outputs": [],
   "source": [
    "\n",
    "\n",
    "\n",
    "\n",
    "\n",
    "\n",
    "\n",
    "\n",
    "\n",
    "\n",
    "\n",
    "\n",
    "\n",
    "\n",
    "\n",
    "\n",
    "\n",
    "\n",
    "\n",
    "\n",
    "\n"
   ]
  }
 ],
 "metadata": {
  "kernelspec": {
   "display_name": "Python 3 (ipykernel)",
   "language": "python",
   "name": "python3"
  },
  "language_info": {
   "codemirror_mode": {
    "name": "ipython",
    "version": 3
   },
   "file_extension": ".py",
   "mimetype": "text/x-python",
   "name": "python",
   "nbconvert_exporter": "python",
   "pygments_lexer": "ipython3",
   "version": "3.9.9"
  }
 },
 "nbformat": 4,
 "nbformat_minor": 5
}
