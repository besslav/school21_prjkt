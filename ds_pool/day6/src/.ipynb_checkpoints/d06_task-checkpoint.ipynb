{
 "cells": [
  {
   "cell_type": "markdown",
   "metadata": {
    "id": "KFgj2IhZoEJZ"
   },
   "source": [
    "# 1. Анализ текстов с использованием метода Word2vec\n",
    "\n",
    "Word2vec - это еще один агоритм преобразования текстов в точки в векторном пространстве признаков. В его основе лежит нейронная сеть - автоэнкодер, который преобразует слово в вектор фиксированной длины. Особенность этого алгоритма заключается в том, что он учитывает семантику слов. Близкие по смыслу слова будут располагаться ближе друг к другу в векторном пространстве, а далекие - дальше. Если объем текстов достаточно большой, то с помощью модели word2vec мы можем определять синонимы и антонимы слов, и, благодаря этому, точность классификации текстов может увеличиться.\n",
    "\n",
    "Сегодня будем пользоваться теми же наборами текстов, что и в прошлый раз. Прежде всего установим уже известные вам библиотеки для работы с текстовыми данными.\n"
   ]
  },
  {
   "cell_type": "code",
   "execution_count": null,
   "metadata": {
    "colab": {
     "base_uri": "https://localhost:8080/"
    },
    "executionInfo": {
     "elapsed": 4027,
     "status": "ok",
     "timestamp": 1642957514455,
     "user": {
      "displayName": "Иван Романов",
      "photoUrl": "https://lh3.googleusercontent.com/a/default-user=s64",
      "userId": "05119643280596747163"
     },
     "user_tz": -180
    },
    "id": "izBRyoiHyfxn",
    "outputId": "d82d1fdc-c9a9-4e9d-d420-c1e48692de93"
   },
   "outputs": [
    {
     "name": "stdout",
     "output_type": "stream",
     "text": [
      "Requirement already satisfied: pymorphy2 in /usr/local/lib/python3.7/dist-packages (0.9.1)\n",
      "Requirement already satisfied: nltk in /usr/local/lib/python3.7/dist-packages (3.2.5)\n",
      "Requirement already satisfied: dawg-python>=0.7.1 in /usr/local/lib/python3.7/dist-packages (from pymorphy2) (0.7.2)\n",
      "Requirement already satisfied: pymorphy2-dicts-ru<3.0,>=2.4 in /usr/local/lib/python3.7/dist-packages (from pymorphy2) (2.4.417127.4579844)\n",
      "Requirement already satisfied: docopt>=0.6 in /usr/local/lib/python3.7/dist-packages (from pymorphy2) (0.6.2)\n",
      "Requirement already satisfied: six in /usr/local/lib/python3.7/dist-packages (from nltk) (1.15.0)\n",
      "[nltk_data] Downloading package punkt to /root/nltk_data...\n",
      "[nltk_data]   Package punkt is already up-to-date!\n",
      "[nltk_data] Downloading package stopwords to /root/nltk_data...\n",
      "[nltk_data]   Package stopwords is already up-to-date!\n"
     ]
    },
    {
     "data": {
      "text/plain": [
       "True"
      ]
     },
     "execution_count": 55,
     "metadata": {},
     "output_type": "execute_result"
    }
   ],
   "source": [
    "!pip install pymorphy2 nltk\n",
    "import nltk\n",
    "nltk.download(\"punkt\")\n",
    "nltk.download(\"stopwords\")"
   ]
  },
  {
   "cell_type": "markdown",
   "metadata": {
    "id": "NEDnZjcJzHgr"
   },
   "source": [
    "Сейчас мы готовы к проведению предобработки текста. Но для того, чтобы работать с моделью word2vec, нам еще понадобится установить библиотеку gensim, в которой описана эта модель."
   ]
  },
  {
   "cell_type": "code",
   "execution_count": null,
   "metadata": {
    "colab": {
     "base_uri": "https://localhost:8080/"
    },
    "executionInfo": {
     "elapsed": 4067,
     "status": "ok",
     "timestamp": 1642957518520,
     "user": {
      "displayName": "Иван Романов",
      "photoUrl": "https://lh3.googleusercontent.com/a/default-user=s64",
      "userId": "05119643280596747163"
     },
     "user_tz": -180
    },
    "id": "4FDadZjZLY6R",
    "outputId": "ec320aee-3c90-41cf-f5f1-22b7d07684fa"
   },
   "outputs": [
    {
     "name": "stdout",
     "output_type": "stream",
     "text": [
      "Requirement already satisfied: gensim in /usr/local/lib/python3.7/dist-packages (3.6.0)\n",
      "Requirement already satisfied: six>=1.5.0 in /usr/local/lib/python3.7/dist-packages (from gensim) (1.15.0)\n",
      "Requirement already satisfied: smart-open>=1.2.1 in /usr/local/lib/python3.7/dist-packages (from gensim) (5.2.1)\n",
      "Requirement already satisfied: numpy>=1.11.3 in /usr/local/lib/python3.7/dist-packages (from gensim) (1.19.5)\n",
      "Requirement already satisfied: scipy>=0.18.1 in /usr/local/lib/python3.7/dist-packages (from gensim) (1.4.1)\n"
     ]
    }
   ],
   "source": [
    "!pip install gensim"
   ]
  },
  {
   "cell_type": "markdown",
   "metadata": {
    "id": "uKxOHCADM6gL"
   },
   "source": [
    "Для демонстрации возможностей этой библиотеки снова возьмем набор данных с текстами твитов, где сразу же переименуем класс -1 в 0. Вспомним, как выглядит наш датасет."
   ]
  },
  {
   "cell_type": "code",
   "execution_count": null,
   "metadata": {
    "colab": {
     "base_uri": "https://localhost:8080/"
    },
    "executionInfo": {
     "elapsed": 5823,
     "status": "ok",
     "timestamp": 1642957525327,
     "user": {
      "displayName": "Иван Романов",
      "photoUrl": "https://lh3.googleusercontent.com/a/default-user=s64",
      "userId": "05119643280596747163"
     },
     "user_tz": -180
    },
    "id": "hAIFQoNTgd-2",
    "outputId": "504c9e51-5314-4423-8524-8d832c35a5d2"
   },
   "outputs": [
    {
     "name": "stdout",
     "output_type": "stream",
     "text": [
      "Mounted at /content/drive/\n"
     ]
    }
   ],
   "source": [
    "from google.colab import drive\n",
    "import os\n",
    "# drive.mount('/content/drive/')\n",
    "drive.mount(\"/content/drive/\", force_remount=True)"
   ]
  },
  {
   "cell_type": "code",
   "execution_count": null,
   "metadata": {
    "colab": {
     "base_uri": "https://localhost:8080/",
     "height": 455
    },
    "executionInfo": {
     "elapsed": 19,
     "status": "ok",
     "timestamp": 1642957525329,
     "user": {
      "displayName": "Иван Романов",
      "photoUrl": "https://lh3.googleusercontent.com/a/default-user=s64",
      "userId": "05119643280596747163"
     },
     "user_tz": -180
    },
    "id": "MrOFcawaLo1s",
    "outputId": "528424e2-3a31-4f4d-f498-cf75e1375e19"
   },
   "outputs": [
    {
     "name": "stderr",
     "output_type": "stream",
     "text": [
      "/usr/local/lib/python3.7/dist-packages/ipykernel_launcher.py:4: SettingWithCopyWarning: \n",
      "A value is trying to be set on a copy of a slice from a DataFrame\n",
      "\n",
      "See the caveats in the documentation: https://pandas.pydata.org/pandas-docs/stable/user_guide/indexing.html#returning-a-view-versus-a-copy\n",
      "  after removing the cwd from sys.path.\n"
     ]
    },
    {
     "data": {
      "text/html": [
       "\n",
       "  <div id=\"df-a012d718-9699-4dbc-bcca-c1c01ae0dbb4\">\n",
       "    <div class=\"colab-df-container\">\n",
       "      <div>\n",
       "<style scoped>\n",
       "    .dataframe tbody tr th:only-of-type {\n",
       "        vertical-align: middle;\n",
       "    }\n",
       "\n",
       "    .dataframe tbody tr th {\n",
       "        vertical-align: top;\n",
       "    }\n",
       "\n",
       "    .dataframe thead th {\n",
       "        text-align: right;\n",
       "    }\n",
       "</style>\n",
       "<table border=\"1\" class=\"dataframe\">\n",
       "  <thead>\n",
       "    <tr style=\"text-align: right;\">\n",
       "      <th></th>\n",
       "      <th>id</th>\n",
       "      <th>date</th>\n",
       "      <th>name</th>\n",
       "      <th>text</th>\n",
       "      <th>positive</th>\n",
       "      <th>rep</th>\n",
       "      <th>rtv</th>\n",
       "      <th>fav</th>\n",
       "      <th>total_count</th>\n",
       "      <th>fol</th>\n",
       "      <th>friends</th>\n",
       "      <th>list_count</th>\n",
       "    </tr>\n",
       "  </thead>\n",
       "  <tbody>\n",
       "    <tr>\n",
       "      <th>16</th>\n",
       "      <td>408906854803451904</td>\n",
       "      <td>1386325965</td>\n",
       "      <td>fantanshik</td>\n",
       "      <td>RT @Abdullin_A_R: @LikhodedovaMary эхх, а в УГ...</td>\n",
       "      <td>1</td>\n",
       "      <td>0</td>\n",
       "      <td>1</td>\n",
       "      <td>0</td>\n",
       "      <td>2074</td>\n",
       "      <td>82</td>\n",
       "      <td>44</td>\n",
       "      <td>5</td>\n",
       "    </tr>\n",
       "    <tr>\n",
       "      <th>17</th>\n",
       "      <td>408906854849204224</td>\n",
       "      <td>1386325965</td>\n",
       "      <td>Tienn_En</td>\n",
       "      <td>@marinaysol а, а то подумала, что у тебя там п...</td>\n",
       "      <td>1</td>\n",
       "      <td>0</td>\n",
       "      <td>0</td>\n",
       "      <td>0</td>\n",
       "      <td>6362</td>\n",
       "      <td>30</td>\n",
       "      <td>28</td>\n",
       "      <td>1</td>\n",
       "    </tr>\n",
       "    <tr>\n",
       "      <th>18</th>\n",
       "      <td>408906855146983424</td>\n",
       "      <td>1386325966</td>\n",
       "      <td>bstrd666</td>\n",
       "      <td>@xLesherx @4EU3 зря вы с этой ерундой шутите))...</td>\n",
       "      <td>1</td>\n",
       "      <td>0</td>\n",
       "      <td>0</td>\n",
       "      <td>0</td>\n",
       "      <td>13431</td>\n",
       "      <td>473</td>\n",
       "      <td>111</td>\n",
       "      <td>2</td>\n",
       "    </tr>\n",
       "    <tr>\n",
       "      <th>19</th>\n",
       "      <td>408906857659392000</td>\n",
       "      <td>1386325966</td>\n",
       "      <td>esken_h</td>\n",
       "      <td>@Moscow_advokat Очень главное спасибо for   МЕ...</td>\n",
       "      <td>1</td>\n",
       "      <td>0</td>\n",
       "      <td>0</td>\n",
       "      <td>0</td>\n",
       "      <td>126795</td>\n",
       "      <td>581</td>\n",
       "      <td>86</td>\n",
       "      <td>10</td>\n",
       "    </tr>\n",
       "    <tr>\n",
       "      <th>20</th>\n",
       "      <td>408906857982726080</td>\n",
       "      <td>1386325966</td>\n",
       "      <td>Obrazcova98</td>\n",
       "      <td>У нас есть прекрасная история, как сдохнуть за...</td>\n",
       "      <td>1</td>\n",
       "      <td>0</td>\n",
       "      <td>0</td>\n",
       "      <td>0</td>\n",
       "      <td>492</td>\n",
       "      <td>14</td>\n",
       "      <td>23</td>\n",
       "      <td>0</td>\n",
       "    </tr>\n",
       "    <tr>\n",
       "      <th>21</th>\n",
       "      <td>408906762813579328</td>\n",
       "      <td>1386325944</td>\n",
       "      <td>dugarchikbellko</td>\n",
       "      <td>на работе был полный пиддес :| и так каждое за...</td>\n",
       "      <td>0</td>\n",
       "      <td>0</td>\n",
       "      <td>0</td>\n",
       "      <td>0</td>\n",
       "      <td>8064</td>\n",
       "      <td>111</td>\n",
       "      <td>94</td>\n",
       "      <td>2</td>\n",
       "    </tr>\n",
       "    <tr>\n",
       "      <th>22</th>\n",
       "      <td>408906818262687680</td>\n",
       "      <td>1386325957</td>\n",
       "      <td>nugemycejela</td>\n",
       "      <td>Коллеги сидят рубятся в Urban terror, а я из-з...</td>\n",
       "      <td>0</td>\n",
       "      <td>0</td>\n",
       "      <td>0</td>\n",
       "      <td>0</td>\n",
       "      <td>26</td>\n",
       "      <td>42</td>\n",
       "      <td>39</td>\n",
       "      <td>0</td>\n",
       "    </tr>\n",
       "    <tr>\n",
       "      <th>23</th>\n",
       "      <td>408906858515398720</td>\n",
       "      <td>1386325966</td>\n",
       "      <td>4post21</td>\n",
       "      <td>@elina_4post как говорят обещаного три года жд...</td>\n",
       "      <td>0</td>\n",
       "      <td>0</td>\n",
       "      <td>0</td>\n",
       "      <td>0</td>\n",
       "      <td>718</td>\n",
       "      <td>49</td>\n",
       "      <td>249</td>\n",
       "      <td>0</td>\n",
       "    </tr>\n",
       "    <tr>\n",
       "      <th>24</th>\n",
       "      <td>408906914437685184</td>\n",
       "      <td>1386325980</td>\n",
       "      <td>Poliwake</td>\n",
       "      <td>Желаю хорошего полёта и удачной посадки,я буду...</td>\n",
       "      <td>0</td>\n",
       "      <td>0</td>\n",
       "      <td>0</td>\n",
       "      <td>0</td>\n",
       "      <td>10628</td>\n",
       "      <td>207</td>\n",
       "      <td>200</td>\n",
       "      <td>0</td>\n",
       "    </tr>\n",
       "    <tr>\n",
       "      <th>25</th>\n",
       "      <td>408906914723295232</td>\n",
       "      <td>1386325980</td>\n",
       "      <td>capyvixowe</td>\n",
       "      <td>Обновил за каким-то лешим surf, теперь не рабо...</td>\n",
       "      <td>0</td>\n",
       "      <td>0</td>\n",
       "      <td>0</td>\n",
       "      <td>0</td>\n",
       "      <td>35</td>\n",
       "      <td>17</td>\n",
       "      <td>34</td>\n",
       "      <td>0</td>\n",
       "    </tr>\n",
       "  </tbody>\n",
       "</table>\n",
       "</div>\n",
       "      <button class=\"colab-df-convert\" onclick=\"convertToInteractive('df-a012d718-9699-4dbc-bcca-c1c01ae0dbb4')\"\n",
       "              title=\"Convert this dataframe to an interactive table.\"\n",
       "              style=\"display:none;\">\n",
       "        \n",
       "  <svg xmlns=\"http://www.w3.org/2000/svg\" height=\"24px\"viewBox=\"0 0 24 24\"\n",
       "       width=\"24px\">\n",
       "    <path d=\"M0 0h24v24H0V0z\" fill=\"none\"/>\n",
       "    <path d=\"M18.56 5.44l.94 2.06.94-2.06 2.06-.94-2.06-.94-.94-2.06-.94 2.06-2.06.94zm-11 1L8.5 8.5l.94-2.06 2.06-.94-2.06-.94L8.5 2.5l-.94 2.06-2.06.94zm10 10l.94 2.06.94-2.06 2.06-.94-2.06-.94-.94-2.06-.94 2.06-2.06.94z\"/><path d=\"M17.41 7.96l-1.37-1.37c-.4-.4-.92-.59-1.43-.59-.52 0-1.04.2-1.43.59L10.3 9.45l-7.72 7.72c-.78.78-.78 2.05 0 2.83L4 21.41c.39.39.9.59 1.41.59.51 0 1.02-.2 1.41-.59l7.78-7.78 2.81-2.81c.8-.78.8-2.07 0-2.86zM5.41 20L4 18.59l7.72-7.72 1.47 1.35L5.41 20z\"/>\n",
       "  </svg>\n",
       "      </button>\n",
       "      \n",
       "  <style>\n",
       "    .colab-df-container {\n",
       "      display:flex;\n",
       "      flex-wrap:wrap;\n",
       "      gap: 12px;\n",
       "    }\n",
       "\n",
       "    .colab-df-convert {\n",
       "      background-color: #E8F0FE;\n",
       "      border: none;\n",
       "      border-radius: 50%;\n",
       "      cursor: pointer;\n",
       "      display: none;\n",
       "      fill: #1967D2;\n",
       "      height: 32px;\n",
       "      padding: 0 0 0 0;\n",
       "      width: 32px;\n",
       "    }\n",
       "\n",
       "    .colab-df-convert:hover {\n",
       "      background-color: #E2EBFA;\n",
       "      box-shadow: 0px 1px 2px rgba(60, 64, 67, 0.3), 0px 1px 3px 1px rgba(60, 64, 67, 0.15);\n",
       "      fill: #174EA6;\n",
       "    }\n",
       "\n",
       "    [theme=dark] .colab-df-convert {\n",
       "      background-color: #3B4455;\n",
       "      fill: #D2E3FC;\n",
       "    }\n",
       "\n",
       "    [theme=dark] .colab-df-convert:hover {\n",
       "      background-color: #434B5C;\n",
       "      box-shadow: 0px 1px 3px 1px rgba(0, 0, 0, 0.15);\n",
       "      filter: drop-shadow(0px 1px 2px rgba(0, 0, 0, 0.3));\n",
       "      fill: #FFFFFF;\n",
       "    }\n",
       "  </style>\n",
       "\n",
       "      <script>\n",
       "        const buttonEl =\n",
       "          document.querySelector('#df-a012d718-9699-4dbc-bcca-c1c01ae0dbb4 button.colab-df-convert');\n",
       "        buttonEl.style.display =\n",
       "          google.colab.kernel.accessAllowed ? 'block' : 'none';\n",
       "\n",
       "        async function convertToInteractive(key) {\n",
       "          const element = document.querySelector('#df-a012d718-9699-4dbc-bcca-c1c01ae0dbb4');\n",
       "          const dataTable =\n",
       "            await google.colab.kernel.invokeFunction('convertToInteractive',\n",
       "                                                     [key], {});\n",
       "          if (!dataTable) return;\n",
       "\n",
       "          const docLinkHtml = 'Like what you see? Visit the ' +\n",
       "            '<a target=\"_blank\" href=https://colab.research.google.com/notebooks/data_table.ipynb>data table notebook</a>'\n",
       "            + ' to learn more about interactive tables.';\n",
       "          element.innerHTML = '';\n",
       "          dataTable['output_type'] = 'display_data';\n",
       "          await google.colab.output.renderOutput(dataTable, element);\n",
       "          const docLink = document.createElement('div');\n",
       "          docLink.innerHTML = docLinkHtml;\n",
       "          element.appendChild(docLink);\n",
       "        }\n",
       "      </script>\n",
       "    </div>\n",
       "  </div>\n",
       "  "
      ],
      "text/plain": [
       "                    id        date             name  ...  fol  friends  list_count\n",
       "16  408906854803451904  1386325965       fantanshik  ...   82       44           5\n",
       "17  408906854849204224  1386325965         Tienn_En  ...   30       28           1\n",
       "18  408906855146983424  1386325966         bstrd666  ...  473      111           2\n",
       "19  408906857659392000  1386325966          esken_h  ...  581       86          10\n",
       "20  408906857982726080  1386325966      Obrazcova98  ...   14       23           0\n",
       "21  408906762813579328  1386325944  dugarchikbellko  ...  111       94           2\n",
       "22  408906818262687680  1386325957     nugemycejela  ...   42       39           0\n",
       "23  408906858515398720  1386325966          4post21  ...   49      249           0\n",
       "24  408906914437685184  1386325980         Poliwake  ...  207      200           0\n",
       "25  408906914723295232  1386325980       capyvixowe  ...   17       34           0\n",
       "\n",
       "[10 rows x 12 columns]"
      ]
     },
     "execution_count": 58,
     "metadata": {},
     "output_type": "execute_result"
    }
   ],
   "source": [
    "import pandas as pd\n",
    "\n",
    "df = pd.read_excel('/content/drive/MyDrive/day07/data-samples/tweets_example.xlsx')\n",
    "df.positive[df.positive==-1] = 0\n",
    "df.loc[16:25]"
   ]
  },
  {
   "cell_type": "markdown",
   "metadata": {
    "id": "IUBBZHDajqbs"
   },
   "source": [
    "Так же, как и при использовании изученных раньше алгоритмов векторизации текста, нам нужно провести очистку данных, т.е. привести все слова текстов к одинаковому виду и форме. Напишем для этого функцию, чтобы можно было потом все эти действия вызывать одной командой."
   ]
  },
  {
   "cell_type": "code",
   "execution_count": null,
   "metadata": {
    "id": "vOThpNTu51g8"
   },
   "outputs": [],
   "source": [
    "import re\n",
    "from nltk.corpus import stopwords\n",
    "from nltk.tokenize import word_tokenize\n",
    "import pymorphy2\n",
    "\n",
    "\n",
    "morph = pymorphy2.MorphAnalyzer()\n",
    "\n",
    "\n",
    "def text_preprocessing(text):\n",
    "    \"\"\"Функция принимает строку и возвращает список слов в начальной форме\"\"\"\n",
    "    text = text.lower()                                                         # приводим текст к нижнему регистру\n",
    "    text = re.sub(r\"[^А-Яа-я]\", \" \", text)                                      # удаляем все некириллические символы\n",
    "    words = word_tokenize(text)                                                 # разбиваем тексты на списки слов\n",
    "    words = [morph.parse(word)[0].normal_form for word in words]                # приводим слова к начальной форме\n",
    "    words = [word for word in words if word not in stopwords.words(\"russian\")]  # удаляем слова из стоп-листа\n",
    "    return words"
   ]
  },
  {
   "cell_type": "code",
   "execution_count": null,
   "metadata": {
    "colab": {
     "base_uri": "https://localhost:8080/",
     "height": 473
    },
    "executionInfo": {
     "elapsed": 10,
     "status": "ok",
     "timestamp": 1642957534292,
     "user": {
      "displayName": "Иван Романов",
      "photoUrl": "https://lh3.googleusercontent.com/a/default-user=s64",
      "userId": "05119643280596747163"
     },
     "user_tz": -180
    },
    "id": "Km1LPs1XiWuw",
    "outputId": "16b36d42-df5c-401f-acc9-96b7d265edf6"
   },
   "outputs": [
    {
     "name": "stderr",
     "output_type": "stream",
     "text": [
      "/usr/local/lib/python3.7/dist-packages/pandas/core/generic.py:5170: SettingWithCopyWarning: \n",
      "A value is trying to be set on a copy of a slice from a DataFrame.\n",
      "Try using .loc[row_indexer,col_indexer] = value instead\n",
      "\n",
      "See the caveats in the documentation: https://pandas.pydata.org/pandas-docs/stable/user_guide/indexing.html#returning-a-view-versus-a-copy\n",
      "  self[name] = value\n"
     ]
    },
    {
     "data": {
      "text/html": [
       "\n",
       "  <div id=\"df-ace621f2-e40a-4010-a4c8-272869aebb11\">\n",
       "    <div class=\"colab-df-container\">\n",
       "      <div>\n",
       "<style scoped>\n",
       "    .dataframe tbody tr th:only-of-type {\n",
       "        vertical-align: middle;\n",
       "    }\n",
       "\n",
       "    .dataframe tbody tr th {\n",
       "        vertical-align: top;\n",
       "    }\n",
       "\n",
       "    .dataframe thead th {\n",
       "        text-align: right;\n",
       "    }\n",
       "</style>\n",
       "<table border=\"1\" class=\"dataframe\">\n",
       "  <thead>\n",
       "    <tr style=\"text-align: right;\">\n",
       "      <th></th>\n",
       "      <th>text</th>\n",
       "      <th>positive</th>\n",
       "    </tr>\n",
       "  </thead>\n",
       "  <tbody>\n",
       "    <tr>\n",
       "      <th>15</th>\n",
       "      <td>[смотреть, случайно, аспирантура, попасть, нау...</td>\n",
       "      <td>1</td>\n",
       "    </tr>\n",
       "    <tr>\n",
       "      <th>16</th>\n",
       "      <td>[эхх, угата, контрольный, предупреждать, контр...</td>\n",
       "      <td>1</td>\n",
       "    </tr>\n",
       "    <tr>\n",
       "      <th>17</th>\n",
       "      <td>[подумать, пробежечка]</td>\n",
       "      <td>1</td>\n",
       "    </tr>\n",
       "    <tr>\n",
       "      <th>18</th>\n",
       "      <td>[зря, ерунда, шутить, история, наблюдать, режи...</td>\n",
       "      <td>1</td>\n",
       "    </tr>\n",
       "    <tr>\n",
       "      <th>19</th>\n",
       "      <td>[очень, главное, спасибо, медведа, работать, к...</td>\n",
       "      <td>1</td>\n",
       "    </tr>\n",
       "    <tr>\n",
       "      <th>20</th>\n",
       "      <td>[прекрасный, история, сдохнуть, неделя]</td>\n",
       "      <td>1</td>\n",
       "    </tr>\n",
       "    <tr>\n",
       "      <th>21</th>\n",
       "      <td>[работа, полный, пиддес, каждый, закрытие, мес...</td>\n",
       "      <td>0</td>\n",
       "    </tr>\n",
       "    <tr>\n",
       "      <th>22</th>\n",
       "      <td>[коллега, сидеть, рубиться, долбать, винд, мочь]</td>\n",
       "      <td>0</td>\n",
       "    </tr>\n",
       "    <tr>\n",
       "      <th>23</th>\n",
       "      <td>[говорить, обещаной, год, ждать]</td>\n",
       "      <td>0</td>\n",
       "    </tr>\n",
       "    <tr>\n",
       "      <th>24</th>\n",
       "      <td>[желать, хороший, пол, удачный, посадка, очень...</td>\n",
       "      <td>0</td>\n",
       "    </tr>\n",
       "  </tbody>\n",
       "</table>\n",
       "</div>\n",
       "      <button class=\"colab-df-convert\" onclick=\"convertToInteractive('df-ace621f2-e40a-4010-a4c8-272869aebb11')\"\n",
       "              title=\"Convert this dataframe to an interactive table.\"\n",
       "              style=\"display:none;\">\n",
       "        \n",
       "  <svg xmlns=\"http://www.w3.org/2000/svg\" height=\"24px\"viewBox=\"0 0 24 24\"\n",
       "       width=\"24px\">\n",
       "    <path d=\"M0 0h24v24H0V0z\" fill=\"none\"/>\n",
       "    <path d=\"M18.56 5.44l.94 2.06.94-2.06 2.06-.94-2.06-.94-.94-2.06-.94 2.06-2.06.94zm-11 1L8.5 8.5l.94-2.06 2.06-.94-2.06-.94L8.5 2.5l-.94 2.06-2.06.94zm10 10l.94 2.06.94-2.06 2.06-.94-2.06-.94-.94-2.06-.94 2.06-2.06.94z\"/><path d=\"M17.41 7.96l-1.37-1.37c-.4-.4-.92-.59-1.43-.59-.52 0-1.04.2-1.43.59L10.3 9.45l-7.72 7.72c-.78.78-.78 2.05 0 2.83L4 21.41c.39.39.9.59 1.41.59.51 0 1.02-.2 1.41-.59l7.78-7.78 2.81-2.81c.8-.78.8-2.07 0-2.86zM5.41 20L4 18.59l7.72-7.72 1.47 1.35L5.41 20z\"/>\n",
       "  </svg>\n",
       "      </button>\n",
       "      \n",
       "  <style>\n",
       "    .colab-df-container {\n",
       "      display:flex;\n",
       "      flex-wrap:wrap;\n",
       "      gap: 12px;\n",
       "    }\n",
       "\n",
       "    .colab-df-convert {\n",
       "      background-color: #E8F0FE;\n",
       "      border: none;\n",
       "      border-radius: 50%;\n",
       "      cursor: pointer;\n",
       "      display: none;\n",
       "      fill: #1967D2;\n",
       "      height: 32px;\n",
       "      padding: 0 0 0 0;\n",
       "      width: 32px;\n",
       "    }\n",
       "\n",
       "    .colab-df-convert:hover {\n",
       "      background-color: #E2EBFA;\n",
       "      box-shadow: 0px 1px 2px rgba(60, 64, 67, 0.3), 0px 1px 3px 1px rgba(60, 64, 67, 0.15);\n",
       "      fill: #174EA6;\n",
       "    }\n",
       "\n",
       "    [theme=dark] .colab-df-convert {\n",
       "      background-color: #3B4455;\n",
       "      fill: #D2E3FC;\n",
       "    }\n",
       "\n",
       "    [theme=dark] .colab-df-convert:hover {\n",
       "      background-color: #434B5C;\n",
       "      box-shadow: 0px 1px 3px 1px rgba(0, 0, 0, 0.15);\n",
       "      filter: drop-shadow(0px 1px 2px rgba(0, 0, 0, 0.3));\n",
       "      fill: #FFFFFF;\n",
       "    }\n",
       "  </style>\n",
       "\n",
       "      <script>\n",
       "        const buttonEl =\n",
       "          document.querySelector('#df-ace621f2-e40a-4010-a4c8-272869aebb11 button.colab-df-convert');\n",
       "        buttonEl.style.display =\n",
       "          google.colab.kernel.accessAllowed ? 'block' : 'none';\n",
       "\n",
       "        async function convertToInteractive(key) {\n",
       "          const element = document.querySelector('#df-ace621f2-e40a-4010-a4c8-272869aebb11');\n",
       "          const dataTable =\n",
       "            await google.colab.kernel.invokeFunction('convertToInteractive',\n",
       "                                                     [key], {});\n",
       "          if (!dataTable) return;\n",
       "\n",
       "          const docLinkHtml = 'Like what you see? Visit the ' +\n",
       "            '<a target=\"_blank\" href=https://colab.research.google.com/notebooks/data_table.ipynb>data table notebook</a>'\n",
       "            + ' to learn more about interactive tables.';\n",
       "          element.innerHTML = '';\n",
       "          dataTable['output_type'] = 'display_data';\n",
       "          await google.colab.output.renderOutput(dataTable, element);\n",
       "          const docLink = document.createElement('div');\n",
       "          docLink.innerHTML = docLinkHtml;\n",
       "          element.appendChild(docLink);\n",
       "        }\n",
       "      </script>\n",
       "    </div>\n",
       "  </div>\n",
       "  "
      ],
      "text/plain": [
       "                                                 text  positive\n",
       "15  [смотреть, случайно, аспирантура, попасть, нау...         1\n",
       "16  [эхх, угата, контрольный, предупреждать, контр...         1\n",
       "17                             [подумать, пробежечка]         1\n",
       "18  [зря, ерунда, шутить, история, наблюдать, режи...         1\n",
       "19  [очень, главное, спасибо, медведа, работать, к...         1\n",
       "20            [прекрасный, история, сдохнуть, неделя]         1\n",
       "21  [работа, полный, пиддес, каждый, закрытие, мес...         0\n",
       "22   [коллега, сидеть, рубиться, долбать, винд, мочь]         0\n",
       "23                   [говорить, обещаной, год, ждать]         0\n",
       "24  [желать, хороший, пол, удачный, посадка, очень...         0"
      ]
     },
     "execution_count": 60,
     "metadata": {},
     "output_type": "execute_result"
    }
   ],
   "source": [
    "preprocessed_df = df[[\"text\", \"positive\"]]\n",
    "preprocessed_df.text = df.text.apply(text_preprocessing)\n",
    "preprocessed_df[15:25]"
   ]
  },
  {
   "cell_type": "markdown",
   "metadata": {
    "id": "pHEm66mM1G5c"
   },
   "source": [
    "Обратите внимание, на этот раз мы не удаляем редкие слова, поскольку теперь текст характеризуется не частотностью тех или иных слов, а семантикой слов, входящих в данный текст.\n",
    "\n",
    "Теперь обучим модель word2vec. Поскольку это не предиктивная модель, будем обучать ее на всём множестве текстов, чтобы получить векторное представление как можно большего количества слов. Подробно о параметрах модели можно почитать в официальной [документации](https://radimrehurek.com/gensim/models/word2vec.html)."
   ]
  },
  {
   "cell_type": "code",
   "execution_count": null,
   "metadata": {
    "id": "jFA3rDXS1Fkc"
   },
   "outputs": [],
   "source": [
    "from gensim.models import Word2Vec\n",
    "\n",
    "w2v = Word2Vec(size=300, min_count=1)  # создадим экземпляр модели word2vec. Здесь size - размер векторного пространства,\n",
    "                                       # min_count - минимальное количество появлений слова в наборе данных, при котором\n",
    "                                       # будем учитывать это слово в модели\n",
    "w2v.build_vocab(preprocessed_df.text)  # обучим модель на нашем наборе текстов"
   ]
  },
  {
   "cell_type": "markdown",
   "metadata": {
    "id": "kGs2ZbBZqZ7L"
   },
   "source": [
    "Теперь посмотрим, какую информацию о словах мы можем получить из обученной модели. Например, для выбранного нами слова можем посмотреть список наиболее похожих на него слов с точки зрения модели."
   ]
  },
  {
   "cell_type": "code",
   "execution_count": null,
   "metadata": {
    "colab": {
     "base_uri": "https://localhost:8080/"
    },
    "executionInfo": {
     "elapsed": 430,
     "status": "ok",
     "timestamp": 1642957548123,
     "user": {
      "displayName": "Иван Романов",
      "photoUrl": "https://lh3.googleusercontent.com/a/default-user=s64",
      "userId": "05119643280596747163"
     },
     "user_tz": -180
    },
    "id": "O-Wkf1KjlHQ8",
    "outputId": "08a0fb1e-e992-4d95-e94c-81b508c1e813"
   },
   "outputs": [
    {
     "data": {
      "text/plain": [
       "[('версия', 0.19564785063266754),\n",
       " ('испугаться', 0.1682674139738083),\n",
       " ('контрольный', 0.15407174825668335),\n",
       " ('думать', 0.15328142046928406),\n",
       " ('страдать', 0.14829033613204956),\n",
       " ('вчера', 0.12144087255001068),\n",
       " ('курить', 0.11451108008623123),\n",
       " ('бгр', 0.11435718834400177),\n",
       " ('зелёный', 0.11305926740169525),\n",
       " ('хороший', 0.11152096837759018)]"
      ]
     },
     "execution_count": 62,
     "metadata": {},
     "output_type": "execute_result"
    }
   ],
   "source": [
    "w2v.wv.most_similar(positive=\"ерунда\")  # этот метод возвращает список кортежей, где первый элемент - это слово,\n",
    "                                        # а второй - степень схожести со словом \"ерунда\". Чем ближе это число к 1,\n",
    "                                        # тем ближе по смыслу выведенное слово"
   ]
  },
  {
   "cell_type": "markdown",
   "metadata": {
    "id": "7zQiScyE2BGl"
   },
   "source": [
    "Аналогично можем посмотреть наименее похожие слова:"
   ]
  },
  {
   "cell_type": "code",
   "execution_count": null,
   "metadata": {
    "colab": {
     "base_uri": "https://localhost:8080/"
    },
    "executionInfo": {
     "elapsed": 7,
     "status": "ok",
     "timestamp": 1642936889148,
     "user": {
      "displayName": "Иван Романов",
      "photoUrl": "https://lh3.googleusercontent.com/a/default-user=s64",
      "userId": "05119643280596747163"
     },
     "user_tz": -180
    },
    "id": "8NjTqIMQ1N7x",
    "outputId": "10098551-b4d5-4295-cda1-54a8a6467be0"
   },
   "outputs": [
    {
     "data": {
      "text/plain": [
       "[('долго', 0.1865115463733673),\n",
       " ('расстраиваться', 0.16969721019268036),\n",
       " ('физически', 0.1406526267528534),\n",
       " ('знать', 0.1378355771303177),\n",
       " ('который', 0.1290450096130371),\n",
       " ('дааааа', 0.12228608131408691),\n",
       " ('плакать', 0.1127568781375885),\n",
       " ('пол', 0.11027365922927856),\n",
       " ('любить', 0.10750678181648254),\n",
       " ('заслать', 0.10008151084184647)]"
      ]
     },
     "execution_count": 18,
     "metadata": {},
     "output_type": "execute_result"
    }
   ],
   "source": [
    "w2v.wv.most_similar(negative=[\"ерунда\"])  # аргумент negative говорит о том, что нужно искать наименее похожие слова.\n",
    "                                          # В этом случае числа - это степень непохожести.\n",
    "                                          # Чем ближе к 1, тем слово меньше похоже на \"ерунду\""
   ]
  },
  {
   "cell_type": "markdown",
   "metadata": {
    "id": "vFYtDT4m6FcN"
   },
   "source": [
    "Метод `most_similar` может помочь нам определить слова, которые наиболее похожи на один набор слов и наименее похожи на другой набор слов."
   ]
  },
  {
   "cell_type": "code",
   "execution_count": null,
   "metadata": {
    "colab": {
     "base_uri": "https://localhost:8080/"
    },
    "executionInfo": {
     "elapsed": 6,
     "status": "ok",
     "timestamp": 1642936889149,
     "user": {
      "displayName": "Иван Романов",
      "photoUrl": "https://lh3.googleusercontent.com/a/default-user=s64",
      "userId": "05119643280596747163"
     },
     "user_tz": -180
    },
    "id": "BbrE5uX-6W1F",
    "outputId": "76a97a00-7b90-4507-b61f-56b370e178a3"
   },
   "outputs": [
    {
     "data": {
      "text/plain": [
       "[('наука', 0.18095536530017853),\n",
       " ('читатель', 0.14942148327827454),\n",
       " ('деревня', 0.14778214693069458),\n",
       " ('опознать', 0.13602223992347717),\n",
       " ('дааааа', 0.11710727959871292),\n",
       " ('телек', 0.11469725519418716),\n",
       " ('винд', 0.11145997047424316),\n",
       " ('закрытие', 0.10539156198501587),\n",
       " ('оч', 0.10309980809688568),\n",
       " ('вчера', 0.10170690715312958)]"
      ]
     },
     "execution_count": 19,
     "metadata": {},
     "output_type": "execute_result"
    }
   ],
   "source": [
    "w2v.wv.most_similar(positive=[\"подняться\", \"угата\"], negative=[\"погибать\", \"клоун\"])\n",
    "\n",
    "# на этот раз цифры - это некая общая метрика похожести на то, что мы просим"
   ]
  },
  {
   "cell_type": "markdown",
   "metadata": {
    "id": "5DlsjpnJ5-ML"
   },
   "source": [
    "Еще можно посмотреть, насколько похожи два слова из выборки"
   ]
  },
  {
   "cell_type": "code",
   "execution_count": null,
   "metadata": {
    "colab": {
     "base_uri": "https://localhost:8080/"
    },
    "executionInfo": {
     "elapsed": 3,
     "status": "ok",
     "timestamp": 1642936889699,
     "user": {
      "displayName": "Иван Романов",
      "photoUrl": "https://lh3.googleusercontent.com/a/default-user=s64",
      "userId": "05119643280596747163"
     },
     "user_tz": -180
    },
    "id": "uvhQtHCj6xhj",
    "outputId": "bfdaa959-a20f-49e2-b442-bc04be27a216"
   },
   "outputs": [
    {
     "data": {
      "text/plain": [
       "0.053252183"
      ]
     },
     "execution_count": 20,
     "metadata": {},
     "output_type": "execute_result"
    }
   ],
   "source": [
    "w2v.wv.similarity(\"клоун\", \"работа\")  # ответ может быть отрицательным - это будет означать, что\n",
    "                                         # эта пара слов - больше антонимы, чем синонимы"
   ]
  },
  {
   "cell_type": "markdown",
   "metadata": {
    "id": "5bMxQ15mx5j0"
   },
   "source": [
    "Очевидно, что с теми словами, которых не было в обучающей выборке, модель работать не сможет:"
   ]
  },
  {
   "cell_type": "code",
   "execution_count": null,
   "metadata": {
    "colab": {
     "base_uri": "https://localhost:8080/",
     "height": 324
    },
    "executionInfo": {
     "elapsed": 9,
     "status": "error",
     "timestamp": 1642936890232,
     "user": {
      "displayName": "Иван Романов",
      "photoUrl": "https://lh3.googleusercontent.com/a/default-user=s64",
      "userId": "05119643280596747163"
     },
     "user_tz": -180
    },
    "id": "Ivv3qJpLx4al",
    "outputId": "74553b8f-b4e9-4b55-91d3-2a26073a9823"
   },
   "outputs": [
    {
     "ename": "KeyError",
     "evalue": "ignored",
     "output_type": "error",
     "traceback": [
      "\u001b[0;31m---------------------------------------------------------------------------\u001b[0m",
      "\u001b[0;31mKeyError\u001b[0m                                  Traceback (most recent call last)",
      "\u001b[0;32m<ipython-input-21-b2af854244ca>\u001b[0m in \u001b[0;36m<module>\u001b[0;34m()\u001b[0m\n\u001b[0;32m----> 1\u001b[0;31m \u001b[0mw2v\u001b[0m\u001b[0;34m.\u001b[0m\u001b[0mwv\u001b[0m\u001b[0;34m.\u001b[0m\u001b[0mmost_similar\u001b[0m\u001b[0;34m(\u001b[0m\u001b[0;34m\"сбербанк\"\u001b[0m\u001b[0;34m)\u001b[0m\u001b[0;34m\u001b[0m\u001b[0;34m\u001b[0m\u001b[0m\n\u001b[0m",
      "\u001b[0;32m/usr/local/lib/python3.7/dist-packages/gensim/models/keyedvectors.py\u001b[0m in \u001b[0;36mmost_similar\u001b[0;34m(self, positive, negative, topn, restrict_vocab, indexer)\u001b[0m\n\u001b[1;32m    529\u001b[0m                 \u001b[0mmean\u001b[0m\u001b[0;34m.\u001b[0m\u001b[0mappend\u001b[0m\u001b[0;34m(\u001b[0m\u001b[0mweight\u001b[0m \u001b[0;34m*\u001b[0m \u001b[0mword\u001b[0m\u001b[0;34m)\u001b[0m\u001b[0;34m\u001b[0m\u001b[0;34m\u001b[0m\u001b[0m\n\u001b[1;32m    530\u001b[0m             \u001b[0;32melse\u001b[0m\u001b[0;34m:\u001b[0m\u001b[0;34m\u001b[0m\u001b[0;34m\u001b[0m\u001b[0m\n\u001b[0;32m--> 531\u001b[0;31m                 \u001b[0mmean\u001b[0m\u001b[0;34m.\u001b[0m\u001b[0mappend\u001b[0m\u001b[0;34m(\u001b[0m\u001b[0mweight\u001b[0m \u001b[0;34m*\u001b[0m \u001b[0mself\u001b[0m\u001b[0;34m.\u001b[0m\u001b[0mword_vec\u001b[0m\u001b[0;34m(\u001b[0m\u001b[0mword\u001b[0m\u001b[0;34m,\u001b[0m \u001b[0muse_norm\u001b[0m\u001b[0;34m=\u001b[0m\u001b[0;32mTrue\u001b[0m\u001b[0;34m)\u001b[0m\u001b[0;34m)\u001b[0m\u001b[0;34m\u001b[0m\u001b[0;34m\u001b[0m\u001b[0m\n\u001b[0m\u001b[1;32m    532\u001b[0m                 \u001b[0;32mif\u001b[0m \u001b[0mword\u001b[0m \u001b[0;32min\u001b[0m \u001b[0mself\u001b[0m\u001b[0;34m.\u001b[0m\u001b[0mvocab\u001b[0m\u001b[0;34m:\u001b[0m\u001b[0;34m\u001b[0m\u001b[0;34m\u001b[0m\u001b[0m\n\u001b[1;32m    533\u001b[0m                     \u001b[0mall_words\u001b[0m\u001b[0;34m.\u001b[0m\u001b[0madd\u001b[0m\u001b[0;34m(\u001b[0m\u001b[0mself\u001b[0m\u001b[0;34m.\u001b[0m\u001b[0mvocab\u001b[0m\u001b[0;34m[\u001b[0m\u001b[0mword\u001b[0m\u001b[0;34m]\u001b[0m\u001b[0;34m.\u001b[0m\u001b[0mindex\u001b[0m\u001b[0;34m)\u001b[0m\u001b[0;34m\u001b[0m\u001b[0;34m\u001b[0m\u001b[0m\n",
      "\u001b[0;32m/usr/local/lib/python3.7/dist-packages/gensim/models/keyedvectors.py\u001b[0m in \u001b[0;36mword_vec\u001b[0;34m(self, word, use_norm)\u001b[0m\n\u001b[1;32m    450\u001b[0m             \u001b[0;32mreturn\u001b[0m \u001b[0mresult\u001b[0m\u001b[0;34m\u001b[0m\u001b[0;34m\u001b[0m\u001b[0m\n\u001b[1;32m    451\u001b[0m         \u001b[0;32melse\u001b[0m\u001b[0;34m:\u001b[0m\u001b[0;34m\u001b[0m\u001b[0;34m\u001b[0m\u001b[0m\n\u001b[0;32m--> 452\u001b[0;31m             \u001b[0;32mraise\u001b[0m \u001b[0mKeyError\u001b[0m\u001b[0;34m(\u001b[0m\u001b[0;34m\"word '%s' not in vocabulary\"\u001b[0m \u001b[0;34m%\u001b[0m \u001b[0mword\u001b[0m\u001b[0;34m)\u001b[0m\u001b[0;34m\u001b[0m\u001b[0;34m\u001b[0m\u001b[0m\n\u001b[0m\u001b[1;32m    453\u001b[0m \u001b[0;34m\u001b[0m\u001b[0m\n\u001b[1;32m    454\u001b[0m     \u001b[0;32mdef\u001b[0m \u001b[0mget_vector\u001b[0m\u001b[0;34m(\u001b[0m\u001b[0mself\u001b[0m\u001b[0;34m,\u001b[0m \u001b[0mword\u001b[0m\u001b[0;34m)\u001b[0m\u001b[0;34m:\u001b[0m\u001b[0;34m\u001b[0m\u001b[0;34m\u001b[0m\u001b[0m\n",
      "\u001b[0;31mKeyError\u001b[0m: \"word 'сбербанк' not in vocabulary\""
     ]
    }
   ],
   "source": [
    "w2v.wv.most_similar(\"сбербанк\")"
   ]
  },
  {
   "cell_type": "markdown",
   "metadata": {
    "id": "bmhcJrBO-m-y"
   },
   "source": [
    "А теперь давайте посмотрим на график, какие слова как расположены друг относительно друга. По умолчанию модель word2vec отображает все слова в пространство размерности 300. Это означает, что каждое слово превращается в набор из 300 чисел. На мониторе такую размерность отобразить очень сложно, поэтому воспользуемся методом снижения размерности векторного пространства t-SNE. Сожмем наши вектора до размерности 2, чтобы их легко можно было отобразить на плоскости."
   ]
  },
  {
   "cell_type": "code",
   "execution_count": null,
   "metadata": {
    "colab": {
     "base_uri": "https://localhost:8080/",
     "height": 665
    },
    "executionInfo": {
     "elapsed": 2337,
     "status": "ok",
     "timestamp": 1642936924768,
     "user": {
      "displayName": "Иван Романов",
      "photoUrl": "https://lh3.googleusercontent.com/a/default-user=s64",
      "userId": "05119643280596747163"
     },
     "user_tz": -180
    },
    "id": "zGEvziOxEVoX",
    "outputId": "e2264e6d-1c91-4bfe-b0d0-a748461fffbc"
   },
   "outputs": [
    {
     "name": "stderr",
     "output_type": "stream",
     "text": [
      "/usr/local/lib/python3.7/dist-packages/sklearn/manifold/_t_sne.py:783: FutureWarning: The default initialization in TSNE will change from 'random' to 'pca' in 1.2.\n",
      "  FutureWarning,\n",
      "/usr/local/lib/python3.7/dist-packages/sklearn/manifold/_t_sne.py:793: FutureWarning: The default learning rate in TSNE will change from 200.0 to 'auto' in 1.2.\n",
      "  FutureWarning,\n"
     ]
    },
    {
     "data": {
      "image/png": "[encoded data removed]",
      "text/plain": [
       "<Figure size 1080x720 with 1 Axes>"
      ]
     },
     "metadata": {
      "needs_background": "light"
     },
     "output_type": "display_data"
    }
   ],
   "source": [
    "from sklearn.manifold import TSNE\n",
    "import numpy as np\n",
    "from matplotlib import pyplot as plt\n",
    "%matplotlib inline\n",
    "import pylab\n",
    "pylab.rcParams['figure.figsize'] = (15, 10)\n",
    "\n",
    "\n",
    "def reduce_dimensions(w2v_model):\n",
    "    \"\"\"Фукнция принимает модель word2vec и возвращает массив абсцисс,\n",
    "    массив ординат и массив слов после снижения размерности\"\"\"\n",
    "    tsne = TSNE(n_components=2, random_state=256)  # создадим экземпляр модели TSNE\n",
    "    vectors = np.asarray(w2v_model.wv.vectors)     # возьмем из модели 300-мерный массив слов-векторов\n",
    "    labels = np.asarray(w2v_model.wv.index2word)   # отдельно сохраним соответствие номера вектора и самого слова\n",
    "    vectors = tsne.fit_transform(vectors)          # проведем преобразование каждого вектора в 2-мерный\n",
    "\n",
    "    x = [v[0] for v in vectors]                    # запишем отдельно массив абсцисс и массив ординат\n",
    "    y = [v[1] for v in vectors]\n",
    "    return x, y, labels\n",
    "\n",
    "\n",
    "def plot_w2v(w2v_model):\n",
    "    \"\"\"Функция строит график распределения слов по векторному пространству\n",
    "    размерности 2 исходя из обученной модели word2vec\"\"\"\n",
    "    x, y, labels = reduce_dimensions(w2v_model)                      # получим значения по осям и названия точек (исходные слова)\n",
    "    plt.scatter(x, y)                                                # строим график с точками\n",
    "    words_to_show_indices = np.random.randint(len(labels), size=25)  # выберем 25 случайных слов, которые отобразим на графике\n",
    "    for i in words_to_show_indices:\n",
    "        plt.annotate(labels[i], (x[i], y[i]))                        # для каждого из этих 25 слов отобразим текст на картинке\n",
    "\n",
    "\n",
    "plot_w2v(w2v)                                                        # применим написанные функции к обученной модели"
   ]
  },
  {
   "cell_type": "markdown",
   "metadata": {
    "id": "RVS2lILcu1CA"
   },
   "source": [
    "Кроме вышеперечисленных возможностей, можно обучить модель word2vec на предсказание следующих слов. Обучим ее и попробуем предсказать продолжение твита \"Котёнка вчера носик разбила, плакала и расстраивалась :(\""
   ]
  },
  {
   "cell_type": "code",
   "execution_count": null,
   "metadata": {
    "colab": {
     "base_uri": "https://localhost:8080/"
    },
    "executionInfo": {
     "elapsed": 19674,
     "status": "ok",
     "timestamp": 1642936968050,
     "user": {
      "displayName": "Иван Романов",
      "photoUrl": "https://lh3.googleusercontent.com/a/default-user=s64",
      "userId": "05119643280596747163"
     },
     "user_tz": -180
    },
    "id": "mzpOg4SRvKEa",
    "outputId": "14097e2b-ac12-4c05-89dd-c845ab4beecb"
   },
   "outputs": [
    {
     "data": {
      "text/plain": [
       "[('плакать', 0.24231148),\n",
       " ('расстраиваться', 0.23603019),\n",
       " ('нка', 0.21317117),\n",
       " ('кот', 0.20372587),\n",
       " ('носик', 0.056937993),\n",
       " ('приехать', 0.0062911315),\n",
       " ('сердце', 0.0041498384),\n",
       " ('епт', 0.0031148212),\n",
       " ('рада', 0.0023692106),\n",
       " ('деревня', 0.001672892)]"
      ]
     },
     "execution_count": 25,
     "metadata": {},
     "output_type": "execute_result"
    }
   ],
   "source": [
    "w2v.train(preprocessed_df.text, total_examples=preprocessed_df.shape[0], epochs=10000)\n",
    "w2v.predict_output_word([\"вчера\", \"носик\", \"разбить\"])"
   ]
  },
  {
   "cell_type": "markdown",
   "metadata": {
    "id": "eL2mANxvTMve"
   },
   "source": [
    "Вообще говоря, списки синонимов и антонимов у нас получились достаточно спорные. Причина этого - малая выборка слов, на которых обучалась модель. Внутри word2vec используется нейросеть-автоэнкодер, а таким моделям всегда нужно много данных для того, чтобы составить корректное отображение входных данных в векторное пространство. Чем больше слов в тексте, тем понятней, какие слова похожи по значению, а какие наоборот противоположны."
   ]
  },
  {
   "cell_type": "markdown",
   "metadata": {
    "id": "basdbO5LXQHo"
   },
   "source": [
    "# Задание 1\n",
    "1. Проведите предобработку текстов из файлов positive.csv, negative.csv. Нужно выполнить те же действия, что в предыдущем дне, но не удалять редко встречающиеся слова. Регулировать использование редких слов будем на уровне модели word2vec. Не забудьте удалить стоп-слова.\n",
    "2. Будем исследовать то, как влияют на качество преобразования *размер целевого векторного пространства* и *использование редких слов*. Создайте несколько моделей word2vec, перебрав параметры:\n",
    "  - размер результирующего пространства: [10, 300, 500] при фиксированной минимальной встречаемости слов = 10\n",
    "  - минимальная встречаемость слов: [1, 10, 100] при фиксированном размере результирующего векторного пространства = 300\n",
    "\n",
    "  Обучите их на всем пространстве текстов.\n",
    "\n",
    "3. Отберите 5 случайных слов из выборки позитивных публикаций и 5 случайных слови из выборки негативных публикаций.\n",
    "4. Для каждой из обученных моделей найдите по 15 синонимов и по 15 антонимов для каждого из слов из п.3. Опишите:\n",
    "  - как влияет размер результирующего пространства на точность определения синонимов/антонимов моделью? почему?\n",
    "  - как влияет минимальная встречаемость слов на точность определения синонимов/антонимов моделью? почему?\n",
    "5. Постройте графики распределения слов в двумерном пространстве. Опишите, как влияют исследуемые параметры на кучность и расположение точек на графике. Почему?\n",
    "6. Возьмите любой твит, обучите модель word2vec с параметрами по умолчанию и попробуйте предсказать продолжение твита. Также попробуйте предсказать продолжение случайной фразы. Сравните результаты, полученные после обучения моделей с разным количеством эпох обучения."
   ]
  },
  {
   "cell_type": "code",
   "execution_count": null,
   "metadata": {
    "id": "RbTyuv6Nrn2-"
   },
   "outputs": [],
   "source": [
    "# код выполнения задания 1\n",
    "\n",
    "\n",
    "\n"
   ]
  },
  {
   "cell_type": "markdown",
   "metadata": {
    "id": "OpZspJounApt"
   },
   "source": [
    "# 2. Использование градиентного бустинга над решающими деревьями для решения задачи классификации текстов\n",
    "\n",
    "В предыдущем разделе мы научились превращать слова в векторы. Но перед нами стоит задача классификации текста, а не одного слова, поэтому нам нужно придумать способ, как целый текст представить числами.\n",
    "\n",
    "После преобразования отдельные слова стали векторами, значения которых зависят от семантики слова. Будем рассматривать твит как сущность с усредненной семантикой всех содержащихся в нём слов. Таким образом, для преобразования целого текста в вектор, нам нужно получить средний вектор всех содержащихся в нём слов. Такой способ реализован в модели Doc2Vec в библиотеке gensim."
   ]
  },
  {
   "cell_type": "code",
   "execution_count": null,
   "metadata": {
    "id": "WayTnYoIE_Ll"
   },
   "outputs": [],
   "source": [
    "from gensim.models.doc2vec import Doc2Vec, TaggedDocument\n",
    "\n",
    "tweets = [TaggedDocument(doc, [i]) for i, doc in enumerate(preprocessed_df.text)]  # преобразуем наши тексты в объекты, понятные док-2-веку\n",
    "d2v = Doc2Vec(tweets, min_count=2)                        # создадим модель Doc2Vec\n",
    "d2v.train(tweets, total_examples=len(tweets), epochs=20)  # подберем веса коэффициентов внутри модели, которые больше будут подходить к нашему набору текстов"
   ]
  },
  {
   "cell_type": "code",
   "execution_count": null,
   "metadata": {
    "id": "IJq2h1nKtCkL"
   },
   "outputs": [],
   "source": [
    "from sklearn.model_selection import train_test_split\n",
    "\n",
    "# разобьем набор текстов на тренировочную и тестовую выборки\n",
    "X_train_texts, X_test_texts, y_train, y_test = train_test_split(preprocessed_df.text, preprocessed_df.positive, test_size=0.2, random_state=21)"
   ]
  },
  {
   "cell_type": "code",
   "execution_count": null,
   "metadata": {
    "colab": {
     "base_uri": "https://localhost:8080/"
    },
    "executionInfo": {
     "elapsed": 2,
     "status": "ok",
     "timestamp": 1642960846348,
     "user": {
      "displayName": "Иван Романов",
      "photoUrl": "https://lh3.googleusercontent.com/a/default-user=s64",
      "userId": "05119643280596747163"
     },
     "user_tz": -180
    },
    "id": "9ChvJJgHDlRT",
    "outputId": "a2d233ab-89f9-49d1-84fd-fc6292d7567b"
   },
   "outputs": [
    {
     "data": {
      "text/plain": [
       "30     [хотеть, помириться, сука, гордый, это, сделать]\n",
       "36     [скоро, увидеть, твой, зелёный, глаз, последний]\n",
       "39    [очень, рада, разбить, сердце, жалко, епт, оч,...\n",
       "25             [обновить, леший, работать, простоплеер]\n",
       "22     [коллега, сидеть, рубиться, долбать, винд, мочь]\n",
       "0     [школотый, поверь, самый, общество, профилиров...\n",
       "23                     [говорить, обещаной, год, ждать]\n",
       "1     [всё, таки, немного, похожий, мальчик, всё, ра...\n",
       "19    [очень, главное, спасибо, медведа, работать, к...\n",
       "3     [угол, сидеть, погибать, голод, ещ, порция, вз...\n",
       "21    [работа, полный, пиддес, каждый, закрытие, мес...\n",
       "27    [заслать, затихариться, прямо, физически, стра...\n",
       "16    [эхх, угата, контрольный, предупреждать, контр...\n",
       "2                                 [идиотка, испугаться]\n",
       "32    [блин, начать, сниться, сон, сниться, сказать,...\n",
       "26    [кот, нка, вчера, носик, разбить, плакать, рас...\n",
       "28                     [вообще, болеть, выздоравливать]\n",
       "18    [зря, ерунда, шутить, история, наблюдать, режи...\n",
       "29    [микрофраза, учиться, срать, кирпич, режим, но...\n",
       "6                               [ох, это, друг, мимими]\n",
       "5                                       [любить, знать]\n",
       "41         [думать, век, почта, россия, подняться, дно]\n",
       "24    [желать, хороший, пол, удачный, посадка, очень...\n",
       "12                                           [задумать]\n",
       "37    [это, докатиться, оранжевело, патриот, деяться...\n",
       "20              [прекрасный, история, сдохнуть, неделя]\n",
       "8                   [поприветствовать, новый, читатель]\n",
       "10    [любить, мама, папа, остальной, влюбляться, пр...\n",
       "34                   [плохо, бояться, значит, мск, бгр]\n",
       "35                              [хотеть, электромобиль]\n",
       "4     [значит, страшилка, блин, посмотреть, всё, час...\n",
       "15    [смотреть, случайно, аспирантура, попасть, нау...\n",
       "9                                    [частичка, сидней]\n",
       "Name: text, dtype: object"
      ]
     },
     "execution_count": 79,
     "metadata": {},
     "output_type": "execute_result"
    }
   ],
   "source": [
    "X_train_texts  # пока что наши тексты выглядят как списки слов в начальной форме, но нам нужно получить из этого векторы"
   ]
  },
  {
   "cell_type": "code",
   "execution_count": null,
   "metadata": {
    "id": "JtHXANZiH3-8"
   },
   "outputs": [],
   "source": [
    "def transform_text_array_to_vector_dataframe(text_array):\n",
    "    \"\"\"Функция, которая преобразует одномерный колонку списков слов из текстов\n",
    "    в датафрейм со значениями векторов этих текстов\"\"\"\n",
    "    columns = [str(n) for n in range(d2v.vector_size)]               # задаем список названий колонок - просто порядковые номера\n",
    "    vectors_ndarray = text_array.apply(d2v.infer_vector).to_list()  # прогоняем каждый текст через модель doc2vec и формируем многомерный массив чисел\n",
    "    return pd.DataFrame(vectors_ndarray, columns=columns)            # оборачиваем его в датафрейм для удобства\n",
    "\n",
    "\n",
    "X_train = transform_text_array_to_vector_dataframe(X_train_texts)    # наконец создадим датафреймы, которые сможем подать в модель классификации\n",
    "X_test = transform_text_array_to_vector_dataframe(X_test_texts)"
   ]
  },
  {
   "cell_type": "markdown",
   "metadata": {
    "id": "nzBBKDL6Gjtw"
   },
   "source": [
    "Вы уже познакомились с некоторыми \"деревянными\" методами машинного обучения - решающим деревом и случайным лесом. Градиентный бустинг - это итеративный способ построения классификации, полученный (как и случайный лес) путем комбинации нескольких алгоритмов. Сначала строится обычное решающее дерево. Затем строится ряд моделей, предсказывающих ошибку исходной модели. Эти предсказания вычитаются из исходной модели. Таким образом, в итоге мы имеем один классификатор, но намного более точный, чем обычное решающее дерево. Чем больше итераций этого алгоритма будет проведено, тем выше получится качество модели, но она будет дольше обучаться.\n",
    "\n",
    "Градиентный бустинг над решающими деревьями - это, пожалуй, самая распространенная на сегодняшний день модель машинного обучения. Ее используют для решениях многих задач, начиная кредитным скорингом и заканчивая товарным спросом и антифродом. Мы будем использовать эту модель для классификации наших текстов.\n",
    "\n",
    "Модель градиентного бустинга есть в библиотеке sklearn, но на больших данных она будет обучаться долго. На рынке сейчас популярны несколько оптимизированных реализаций градиентного бустинга. Самые известные - xgboost, lightgbm и catboost. Рассмотрим xgboost, но вы можете использовать любую из этих трех."
   ]
  },
  {
   "cell_type": "code",
   "execution_count": null,
   "metadata": {
    "colab": {
     "base_uri": "https://localhost:8080/"
    },
    "executionInfo": {
     "elapsed": 3684,
     "status": "ok",
     "timestamp": 1642961969186,
     "user": {
      "displayName": "Иван Романов",
      "photoUrl": "https://lh3.googleusercontent.com/a/default-user=s64",
      "userId": "05119643280596747163"
     },
     "user_tz": -180
    },
    "id": "3LZxnGLQGEUy",
    "outputId": "2aa50247-fb49-43a2-a7da-5b0cac08efe2"
   },
   "outputs": [
    {
     "name": "stdout",
     "output_type": "stream",
     "text": [
      "Requirement already satisfied: xgboost in /usr/local/lib/python3.7/dist-packages (0.90)\n",
      "Requirement already satisfied: scipy in /usr/local/lib/python3.7/dist-packages (from xgboost) (1.4.1)\n",
      "Requirement already satisfied: numpy in /usr/local/lib/python3.7/dist-packages (from xgboost) (1.19.5)\n"
     ]
    }
   ],
   "source": [
    "# установим библиотеку\n",
    "!pip install xgboost"
   ]
  },
  {
   "cell_type": "markdown",
   "metadata": {
    "id": "wwY04bh6PP9G"
   },
   "source": [
    "Работать с моделью xgboost можно так же, как с моделями sklearn: fit и predict. Основные гиперпараметры - максимальная глубина деревьев модели и количество деревьев."
   ]
  },
  {
   "cell_type": "code",
   "execution_count": null,
   "metadata": {
    "colab": {
     "base_uri": "https://localhost:8080/"
    },
    "executionInfo": {
     "elapsed": 415,
     "status": "ok",
     "timestamp": 1642963177519,
     "user": {
      "displayName": "Иван Романов",
      "photoUrl": "https://lh3.googleusercontent.com/a/default-user=s64",
      "userId": "05119643280596747163"
     },
     "user_tz": -180
    },
    "id": "9nTvmczdKg95",
    "outputId": "c86bf163-d215-435e-e83a-3650b4220c24"
   },
   "outputs": [
    {
     "name": "stdout",
     "output_type": "stream",
     "text": [
      "              precision    recall  f1-score   support\n",
      "\n",
      "           0       0.00      0.00      0.00         3\n",
      "           1       0.40      0.33      0.36         6\n",
      "\n",
      "    accuracy                           0.22         9\n",
      "   macro avg       0.20      0.17      0.18         9\n",
      "weighted avg       0.27      0.22      0.24         9\n",
      "\n"
     ]
    }
   ],
   "source": [
    "from xgboost import XGBClassifier\n",
    "from sklearn.metrics import classification_report\n",
    "\n",
    "xgb = XGBClassifier(max_depth=10, n_estimators=50)\n",
    "xgb.fit(X_train, y_train)\n",
    "y_pred = xgb.predict(X_test)\n",
    "print(classification_report(y_pred, y_test))"
   ]
  },
  {
   "cell_type": "markdown",
   "metadata": {
    "id": "uZcI-pQiPuPp"
   },
   "source": [
    "# Задание 2\n",
    "\n",
    "В этом задании от вас требуется провести классификацию текстов с использованием градиентного бустинга. Постройте такую модель, которая даст наилучший результат по метрике precision к классу 0, подобрав гиперпараметры:\n",
    "- минимальная встречаемость слова в текстах в doc2vec\n",
    "- максимальная глубина деревеьев в бустинге\n",
    "- количество деревьев в бустинге\n",
    "\n",
    "Дайте ответ на вопрос: лучше использовать более глубокие или более мелкие деревья в модели градиентного бустинга?"
   ]
  },
  {
   "cell_type": "code",
   "execution_count": null,
   "metadata": {
    "id": "wLsUThFwPAtZ"
   },
   "outputs": [],
   "source": [
    "# код выполнения задания 2\n",
    "\n",
    "\n",
    "\n",
    "\n"
   ]
  }
 ],
 "metadata": {
  "colab": {
   "authorship_tag": "ABX9TyMf1F/JoqBtk2YeZbPQdWec",
   "collapsed_sections": [],
   "name": "d07_task.ipynb",
   "provenance": []
  },
  "kernelspec": {
   "display_name": "Python 3 (ipykernel)",
   "language": "python",
   "name": "python3"
  },
  "language_info": {
   "codemirror_mode": {
    "name": "ipython",
    "version": 3
   },
   "file_extension": ".py",
   "mimetype": "text/x-python",
   "name": "python",
   "nbconvert_exporter": "python",
   "pygments_lexer": "ipython3",
   "version": "3.9.9"
  }
 },
 "nbformat": 4,
 "nbformat_minor": 1
}
